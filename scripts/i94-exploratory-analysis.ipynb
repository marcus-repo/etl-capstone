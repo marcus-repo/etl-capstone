{
 "cells": [
  {
   "cell_type": "markdown",
   "id": "agreed-armstrong",
   "metadata": {},
   "source": [
    "# Exploratory Analysis for I94 immigration data\n",
    "- Exploratory Analysis with SPARK\n",
    "- Schema definition\n",
    "- Reading from SAS and writing to parquet"
   ]
  },
  {
   "cell_type": "code",
   "execution_count": 1,
   "id": "moderate-sunday",
   "metadata": {},
   "outputs": [
    {
     "name": "stdout",
     "output_type": "stream",
     "text": [
      "c:\\spark\n",
      "c:\\spark\n",
      "C:\\Program Files\\Zulu\\zulu-8-jre\\\n",
      "c:\\Hadoop\n"
     ]
    }
   ],
   "source": [
    "from datetime import datetime, timedelta\n",
    "\n",
    "import configparser\n",
    "import os\n",
    "from pprint import pprint\n",
    "\n",
    "import pandas as pd, numpy as np\n",
    "import matplotlib.pyplot as plt\n",
    "\n",
    "import findspark\n",
    "findspark.init()\n",
    "print(findspark.find())\n",
    "print(os.environ['SPARK_HOME'])\n",
    "print(os.environ['JAVA_HOME'])\n",
    "print(os.environ['HADOOP_HOME'])\n",
    "\n",
    "from pyspark.sql import SparkSession\n",
    "from pyspark.sql.functions import udf\n",
    "from pyspark.sql.functions import col, asc, desc, min, max\n",
    "from pyspark.sql.types import *\n",
    "\n",
    "pd.set_option('display.max_rows', 50)"
   ]
  },
  {
   "cell_type": "code",
   "execution_count": 2,
   "id": "protective-alignment",
   "metadata": {},
   "outputs": [],
   "source": [
    "def create_spark_session(local=True):\n",
    "    \"\"\"\n",
    "    Creates and returns spark session.\n",
    "    \"\"\"\n",
    "    spark = SparkSession \\\n",
    "        .builder \\\n",
    "        .config(\"spark.jars.packages\", \"saurfang:spark-sas7bdat:3.0.0-s_2.12\") \\\n",
    "        .enableHiveSupport() \\\n",
    "        .getOrCreate()\n",
    "\n",
    "    return spark"
   ]
  },
  {
   "cell_type": "code",
   "execution_count": 3,
   "id": "changed-immigration",
   "metadata": {},
   "outputs": [],
   "source": [
    "# create spark session\n",
    "spark = create_spark_session()"
   ]
  },
  {
   "cell_type": "code",
   "execution_count": 4,
   "id": "streaming-superior",
   "metadata": {},
   "outputs": [
    {
     "name": "stdout",
     "output_type": "stream",
     "text": [
      "3096313\n"
     ]
    }
   ],
   "source": [
    "# read spark - infer schema\n",
    "df_spark = spark.read.format('com.github.saurfang.sas.spark').load('./data/i94_apr16_sub.sas7bdat')\n",
    "print(df_spark.count())"
   ]
  },
  {
   "cell_type": "code",
   "execution_count": 5,
   "id": "moving-parish",
   "metadata": {},
   "outputs": [
    {
     "name": "stdout",
     "output_type": "stream",
     "text": [
      "root\n",
      " |-- cicid: double (nullable = true)\n",
      " |-- i94yr: double (nullable = true)\n",
      " |-- i94mon: double (nullable = true)\n",
      " |-- i94cit: double (nullable = true)\n",
      " |-- i94res: double (nullable = true)\n",
      " |-- i94port: string (nullable = true)\n",
      " |-- arrdate: double (nullable = true)\n",
      " |-- i94mode: double (nullable = true)\n",
      " |-- i94addr: string (nullable = true)\n",
      " |-- depdate: double (nullable = true)\n",
      " |-- i94bir: double (nullable = true)\n",
      " |-- i94visa: double (nullable = true)\n",
      " |-- count: double (nullable = true)\n",
      " |-- dtadfile: string (nullable = true)\n",
      " |-- visapost: string (nullable = true)\n",
      " |-- occup: string (nullable = true)\n",
      " |-- entdepa: string (nullable = true)\n",
      " |-- entdepd: string (nullable = true)\n",
      " |-- entdepu: string (nullable = true)\n",
      " |-- matflag: string (nullable = true)\n",
      " |-- biryear: double (nullable = true)\n",
      " |-- dtaddto: string (nullable = true)\n",
      " |-- gender: string (nullable = true)\n",
      " |-- insnum: string (nullable = true)\n",
      " |-- airline: string (nullable = true)\n",
      " |-- admnum: double (nullable = true)\n",
      " |-- fltno: string (nullable = true)\n",
      " |-- visatype: string (nullable = true)\n",
      "\n"
     ]
    }
   ],
   "source": [
    "df_spark.printSchema()"
   ]
  },
  {
   "cell_type": "code",
   "execution_count": 6,
   "id": "valued-worst",
   "metadata": {},
   "outputs": [],
   "source": [
    "# define schema\n",
    "# https://knowledge.udacity.com/questions/316417 - I94cit and I94 res clarification\n",
    "\n",
    "i94_schema = StructType([\n",
    "    StructField(\"cicid\", IntegerType(), True),    # id\n",
    "    StructField(\"i94yr\", IntegerType(), True),    # Year\n",
    "    StructField(\"i94mon\", IntegerType(), True),   # Month\n",
    "    StructField(\"i94cit\", IntegerType(), True),   # Country Codes I94CIT represents the country of citizenship.\n",
    "    StructField(\"i94res\", IntegerType(), True),   # Country Codes I94RES represents the country of residence.\n",
    "    StructField(\"i94port\", StringType(), True),   # e. g. 'DTH'\t=\t'DUTCH HARBOR, AK  \n",
    "    StructField(\"arrdate\", IntegerType(), True),  # ARRDATE is the Arrival Date in the USA. SAS date numeric field\n",
    "    StructField(\"i94mode\", IntegerType(), True),  # Air, Sea, Land ...\n",
    "    StructField(\"i94addr\", StringType(), True),   # States: FL, ...\n",
    "    StructField(\"depdate\", IntegerType(), True),  # SAS date numeric field \n",
    "    StructField(\"i94bir\", IntegerType(), True),   # Age of Respondent in Years\n",
    "    StructField(\"i94visa\", IntegerType(), True),  # Business, Pleasure, Student\n",
    "    StructField(\"count\", IntegerType(), True),    # COUNT - Used for summary statistics\n",
    "    StructField(\"dtadfile\", StringType(), True),  # DTADFILE - Character Date Field - Date added to I-94 Files - CIC does not use\n",
    "    StructField(\"visapost\", StringType(), True),  # VISAPOST - Department of State where where Visa was issued - CIC does not use\n",
    "    StructField(\"occup\", StringType(), True),     # OCCUP - Occupation that will be performed in U.S. - CIC does not use\n",
    "    StructField(\"entdepa\", StringType(), True),   # ENTDEPA - Arrival Flag - admitted or paroled into the U.S. - CIC does not use\n",
    "    StructField(\"entdepd\", StringType(), True),   # ENTDEPD - Departure Flag - Departed, lost I-94 or is deceased - CIC does not use\n",
    "    StructField(\"entdepu\", StringType(), True),   # ENTDEPU - Update Flag - Either apprehended, overstayed, adjusted to perm residence - CIC does not use\n",
    "    StructField(\"matflag\", StringType(), True),   # MATFLAG - Match flag - Match of arrival and departure records\n",
    "    StructField(\"biryear\", IntegerType(), True),  # BIRYEAR - 4 digit year of birth\n",
    "    StructField(\"dtaddto\", StringType(), True),   # DTADDTO - Character Date Field - Date to which admitted to U.S. (allowed to stay until) - CIC does not use\n",
    "    StructField(\"gender\", StringType(), True),    # GENDER - Non-immigrant sex\n",
    "    StructField(\"insnum\", StringType(), True),    # INSNUM - INS number\n",
    "    StructField(\"airline\", StringType(), True),   # AIRLINE - Airline used to arrive in U.S.\n",
    "    StructField(\"admnum\", DoubleType(), True),    # ADMNUM - Admission Number\n",
    "    StructField(\"fltno\", StringType(), True),     # FLTNO - Flight number of Airline used to arrive in U.S.\n",
    "    StructField(\"visatype\", StringType(), True),  # VISATYPE - Class of admission legally admitting the non-immigrant to temporarily stay in U.S.\n",
    "])        "
   ]
  },
  {
   "cell_type": "code",
   "execution_count": 7,
   "id": "noble-vegetarian",
   "metadata": {},
   "outputs": [],
   "source": [
    "# additional column clarifications\n",
    "# https://knowledge.udacity.com/questions/297018\n",
    "\n",
    "#cicid (int) : This is the unique Identifier --> Primary key\n",
    "#i94yr (int) : 4 digit year of the arrival\n",
    "#i94mon(int) : numeric month of the arrival\n",
    "#i94cit(string) : 3 digit code of origin city\n",
    "#i94port(string) : 3 character code of destination city --> Foreign key (used to map to USDemographics and City Temperature data)\n",
    "#arrdate (float) : arrival date of the departure\n",
    "#i94mode (float): 1 digit travel code\n",
    "#depdate (float) = departure date\n",
    "#i94visa (string): reason for immigration\n",
    "#visatype (string): Visa type(Student, Job, etc.)\n",
    "#Arrival_date (Datetime): arrdate in datetime object.Used to map to Date dimensions table ---> Foreign key"
   ]
  },
  {
   "cell_type": "code",
   "execution_count": 8,
   "id": "excessive-shift",
   "metadata": {},
   "outputs": [
    {
     "name": "stdout",
     "output_type": "stream",
     "text": [
      "3096313\n"
     ]
    }
   ],
   "source": [
    "# read spark with schema definition\n",
    "df_spark = spark.read.format('com.github.saurfang.sas.spark').load('./data/i94_apr16_sub.sas7bdat', schema=i94_schema)\n",
    "print(df_spark.count())"
   ]
  },
  {
   "cell_type": "code",
   "execution_count": 9,
   "id": "interested-masters",
   "metadata": {},
   "outputs": [],
   "source": [
    "#https://knowledge.udacity.com/questions/66798\n",
    "\n",
    "# convert SAS date to date\n",
    "def convert_sas_date(x):\n",
    "    try:\n",
    "        start = datetime(1960, 1, 1)\n",
    "        return start + timedelta(days=int(x))\n",
    "    except:\n",
    "        return None\n",
    "    \n",
    "# register udf\n",
    "udf_date_from_sas = udf(lambda x: convert_sas_date(x), DateType())"
   ]
  },
  {
   "cell_type": "code",
   "execution_count": 10,
   "id": "expired-alfred",
   "metadata": {},
   "outputs": [],
   "source": [
    "# convert string format to date\n",
    "\n",
    "def convert_str_to_date(x):\n",
    "    try:\n",
    "        return datetime.strptime(x, \"%Y%m%d\")\n",
    "    except:\n",
    "        return None\n",
    "\n",
    "# register udf\n",
    "udf_date_from_str = udf(lambda x: convert_str_to_date(x), DateType())"
   ]
  },
  {
   "cell_type": "code",
   "execution_count": 11,
   "id": "guilty-preference",
   "metadata": {},
   "outputs": [
    {
     "data": {
      "text/plain": [
       "datetime.datetime(2013, 8, 11, 0, 0)"
      ]
     },
     "execution_count": 11,
     "metadata": {},
     "output_type": "execute_result"
    }
   ],
   "source": [
    "datetime.strptime(\"20130811\", \"%Y%m%d\")"
   ]
  },
  {
   "cell_type": "code",
   "execution_count": 12,
   "id": "narrative-joint",
   "metadata": {},
   "outputs": [],
   "source": [
    "# add date columns\n",
    "df_spark = df_spark\\\n",
    "    .withColumn(\"arrival_date\", udf_date_from_sas(\"arrdate\")) \\\n",
    "    .withColumn(\"departure_date\", udf_date_from_sas(\"depdate\")) \\\n",
    "    .withColumn(\"dtadfile_date\", udf_date_from_str(\"dtadfile\"))"
   ]
  },
  {
   "cell_type": "code",
   "execution_count": 13,
   "id": "analyzed-spectacular",
   "metadata": {},
   "outputs": [
    {
     "name": "stdout",
     "output_type": "stream",
     "text": [
      "+-----+-----+------+------+------+-------+-------+-------+-------+-------+------+-------+-----+--------+--------+-----+-------+-------+-------+-------+-------+--------+------+------+-------+--------------+-----+--------+------------+--------------+-------------+\n",
      "|cicid|i94yr|i94mon|i94cit|i94res|i94port|arrdate|i94mode|i94addr|depdate|i94bir|i94visa|count|dtadfile|visapost|occup|entdepa|entdepd|entdepu|matflag|biryear| dtaddto|gender|insnum|airline|        admnum|fltno|visatype|arrival_date|departure_date|dtadfile_date|\n",
      "+-----+-----+------+------+------+-------+-------+-------+-------+-------+------+-------+-----+--------+--------+-----+-------+-------+-------+-------+-------+--------+------+------+-------+--------------+-----+--------+------------+--------------+-------------+\n",
      "|    6| 2016|     4|   692|   692|    XXX|  20573|   null|   null|   null|    37|      2|    1|    null|    null| null|      T|   null|      U|   null|   1979|10282016|  null|  null|   null| 1.897628485E9| null|      B2|  2016-04-29|          null|         null|\n",
      "|    7| 2016|     4|   254|   276|    ATL|  20551|      1|     AL|   null|    25|      3|    1|20130811|     SEO| null|      G|   null|      Y|   null|   1991|     D/S|     M|  null|   null|  3.73679633E9|00296|      F1|  2016-04-07|          null|   2013-08-11|\n",
      "|   15| 2016|     4|   101|   101|    WAS|  20545|      1|     MI|  20691|    55|      2|    1|20160401|    null| null|      T|      O|   null|      M|   1961|09302016|     M|  null|     OS|  6.66643185E8|   93|      B2|  2016-04-01|    2016-08-25|   2016-04-01|\n",
      "|   16| 2016|     4|   101|   101|    NYC|  20545|      1|     MA|  20567|    28|      2|    1|20160401|    null| null|      O|      O|   null|      M|   1988|09302016|  null|  null|     AA|9.246846133E10|00199|      B2|  2016-04-01|    2016-04-23|   2016-04-01|\n",
      "|   17| 2016|     4|   101|   101|    NYC|  20545|      1|     MA|  20567|     4|      2|    1|20160401|    null| null|      O|      O|   null|      M|   2012|09302016|  null|  null|     AA|9.246846313E10|00199|      B2|  2016-04-01|    2016-04-23|   2016-04-01|\n",
      "+-----+-----+------+------+------+-------+-------+-------+-------+-------+------+-------+-----+--------+--------+-----+-------+-------+-------+-------+-------+--------+------+------+-------+--------------+-----+--------+------------+--------------+-------------+\n",
      "only showing top 5 rows\n",
      "\n"
     ]
    }
   ],
   "source": [
    "df_spark.show(5)"
   ]
  },
  {
   "cell_type": "code",
   "execution_count": 14,
   "id": "returning-fraud",
   "metadata": {},
   "outputs": [
    {
     "name": "stdout",
     "output_type": "stream",
     "text": [
      "3096313\n",
      "3096313\n"
     ]
    }
   ],
   "source": [
    "# check if cicid is a unique id\n",
    "print(df_spark.select(\"cicid\").dropDuplicates().count())\n",
    "print(df_spark.count())"
   ]
  },
  {
   "cell_type": "code",
   "execution_count": 15,
   "id": "jewish-dodge",
   "metadata": {},
   "outputs": [
    {
     "name": "stdout",
     "output_type": "stream",
     "text": [
      "+-----+\n",
      "|i94yr|\n",
      "+-----+\n",
      "| 2016|\n",
      "+-----+\n",
      "\n"
     ]
    }
   ],
   "source": [
    "# check uniqunes\n",
    "df_spark.select(\"i94yr\").dropDuplicates().show()"
   ]
  },
  {
   "cell_type": "code",
   "execution_count": 16,
   "id": "guided-spiritual",
   "metadata": {},
   "outputs": [
    {
     "name": "stdout",
     "output_type": "stream",
     "text": [
      "+------+\n",
      "|i94mon|\n",
      "+------+\n",
      "|     4|\n",
      "+------+\n",
      "\n"
     ]
    }
   ],
   "source": [
    "# check uniqunes\n",
    "df_spark.select(\"i94mon\").dropDuplicates().show()"
   ]
  },
  {
   "cell_type": "code",
   "execution_count": 17,
   "id": "happy-filling",
   "metadata": {},
   "outputs": [
    {
     "name": "stdout",
     "output_type": "stream",
     "text": [
      "+------+------+\n",
      "|i94cit| count|\n",
      "+------+------+\n",
      "|   135|360157|\n",
      "|   209|206873|\n",
      "|   245|191425|\n",
      "|   111|188766|\n",
      "|   582|175781|\n",
      "|   148|157806|\n",
      "|   254|137735|\n",
      "|   689|129833|\n",
      "|   213|110691|\n",
      "|   438|109884|\n",
      "|   117| 78535|\n",
      "|   123| 76920|\n",
      "|   687| 69853|\n",
      "|   129| 57224|\n",
      "|   691| 54120|\n",
      "|   130| 45269|\n",
      "|   251| 41744|\n",
      "|   692| 41349|\n",
      "|   252| 41132|\n",
      "|   696| 40785|\n",
      "+------+------+\n",
      "only showing top 20 rows\n",
      "\n"
     ]
    }
   ],
   "source": [
    "# check frequency\n",
    "df_spark.groupby(\"i94cit\").count().sort(desc(\"count\")).show()"
   ]
  },
  {
   "cell_type": "code",
   "execution_count": 18,
   "id": "square-uruguay",
   "metadata": {},
   "outputs": [
    {
     "name": "stdout",
     "output_type": "stream",
     "text": [
      "+-------+------+\n",
      "|i94port| count|\n",
      "+-------+------+\n",
      "|    NYC|485916|\n",
      "|    MIA|343941|\n",
      "|    LOS|310163|\n",
      "|    SFR|152586|\n",
      "|    ORL|149195|\n",
      "|    HHW|142720|\n",
      "|    NEW|136122|\n",
      "|    CHI|130564|\n",
      "|    HOU|101481|\n",
      "|    FTL| 95977|\n",
      "|    ATL| 92579|\n",
      "|    LVG| 89280|\n",
      "|    AGA| 80919|\n",
      "|    WAS| 74835|\n",
      "|    DAL| 71809|\n",
      "|    BOS| 57354|\n",
      "|    SEA| 47719|\n",
      "|    PHO| 38890|\n",
      "|    DET| 37832|\n",
      "|    TAM| 25632|\n",
      "+-------+------+\n",
      "only showing top 20 rows\n",
      "\n"
     ]
    }
   ],
   "source": [
    "# check frequency\n",
    "df_spark.groupby(\"i94port\").count().sort(desc(\"count\")).show()"
   ]
  },
  {
   "cell_type": "code",
   "execution_count": 20,
   "id": "emotional-crash",
   "metadata": {},
   "outputs": [
    {
     "name": "stdout",
     "output_type": "stream",
     "text": [
      "+-----------------+-----------------+\n",
      "|min(arrival_date)|max(arrival_date)|\n",
      "+-----------------+-----------------+\n",
      "|       2016-04-01|       2016-04-30|\n",
      "+-----------------+-----------------+\n",
      "\n"
     ]
    }
   ],
   "source": [
    "# check min and max\n",
    "df_spark.selectExpr(\"min(arrival_date)\", \"max(arrival_date)\").show()"
   ]
  },
  {
   "cell_type": "code",
   "execution_count": 21,
   "id": "insured-madonna",
   "metadata": {},
   "outputs": [
    {
     "name": "stdout",
     "output_type": "stream",
     "text": [
      "+-------+-------+\n",
      "|i94mode|  count|\n",
      "+-------+-------+\n",
      "|      1|2994505|\n",
      "|      3|  66660|\n",
      "|      2|  26349|\n",
      "|      9|   8560|\n",
      "|   null|    239|\n",
      "+-------+-------+\n",
      "\n"
     ]
    }
   ],
   "source": [
    "# check frequency\n",
    "df_spark.groupby(\"i94mode\").count().sort(desc(\"count\")).show()"
   ]
  },
  {
   "cell_type": "markdown",
   "id": "relevant-hypothesis",
   "metadata": {},
   "source": [
    "- add text mapping directly"
   ]
  },
  {
   "cell_type": "code",
   "execution_count": 22,
   "id": "distinct-interval",
   "metadata": {},
   "outputs": [
    {
     "name": "stdout",
     "output_type": "stream",
     "text": [
      "+-------+------+\n",
      "|i94addr| count|\n",
      "+-------+------+\n",
      "|     FL|621701|\n",
      "|     NY|553677|\n",
      "|     CA|470386|\n",
      "|     HI|168764|\n",
      "|   null|152592|\n",
      "|     TX|134321|\n",
      "|     NV|114609|\n",
      "|     GU| 94107|\n",
      "|     IL| 82126|\n",
      "|     NJ| 76531|\n",
      "|     MA| 70486|\n",
      "|     WA| 55792|\n",
      "|     GA| 44663|\n",
      "|     MI| 32101|\n",
      "|     VA| 31399|\n",
      "|     PA| 30293|\n",
      "|     DC| 28228|\n",
      "|     NE| 26574|\n",
      "|     MD| 25360|\n",
      "|     NC| 23375|\n",
      "+-------+------+\n",
      "only showing top 20 rows\n",
      "\n"
     ]
    }
   ],
   "source": [
    "# check frequency\n",
    "df_spark.groupby(\"i94addr\").count().sort(desc(\"count\")).show()"
   ]
  },
  {
   "cell_type": "code",
   "execution_count": 23,
   "id": "industrial-upset",
   "metadata": {},
   "outputs": [
    {
     "name": "stdout",
     "output_type": "stream",
     "text": [
      "+-------+------------------+\n",
      "|summary|            i94bir|\n",
      "+-------+------------------+\n",
      "|  count|           3095511|\n",
      "|   mean|41.767614458485205|\n",
      "| stddev|17.420260534588213|\n",
      "|    min|                -3|\n",
      "|    max|               114|\n",
      "+-------+------------------+\n",
      "\n"
     ]
    }
   ],
   "source": [
    "# check outliers\n",
    "df_spark.describe(\"i94bir\").show()"
   ]
  },
  {
   "cell_type": "markdown",
   "id": "soviet-formula",
   "metadata": {},
   "source": [
    "- negative values"
   ]
  },
  {
   "cell_type": "code",
   "execution_count": 24,
   "id": "developmental-queue",
   "metadata": {},
   "outputs": [
    {
     "name": "stdout",
     "output_type": "stream",
     "text": [
      "+-------+-------+\n",
      "|i94visa|  count|\n",
      "+-------+-------+\n",
      "|      2|2530868|\n",
      "|      1| 522079|\n",
      "|      3|  43366|\n",
      "+-------+-------+\n",
      "\n"
     ]
    }
   ],
   "source": [
    "# check frequency\n",
    "df_spark.groupby(\"i94visa\").count().sort(desc(\"count\")).show()"
   ]
  },
  {
   "cell_type": "code",
   "execution_count": 25,
   "id": "ready-pollution",
   "metadata": {},
   "outputs": [
    {
     "name": "stdout",
     "output_type": "stream",
     "text": [
      "+-------+------+\n",
      "|i94addr| count|\n",
      "+-------+------+\n",
      "|     FL|621701|\n",
      "|     NY|553677|\n",
      "|     CA|470386|\n",
      "|     HI|168764|\n",
      "|   null|152592|\n",
      "|     TX|134321|\n",
      "|     NV|114609|\n",
      "|     GU| 94107|\n",
      "|     IL| 82126|\n",
      "|     NJ| 76531|\n",
      "|     MA| 70486|\n",
      "|     WA| 55792|\n",
      "|     GA| 44663|\n",
      "|     MI| 32101|\n",
      "|     VA| 31399|\n",
      "|     PA| 30293|\n",
      "|     DC| 28228|\n",
      "|     NE| 26574|\n",
      "|     MD| 25360|\n",
      "|     NC| 23375|\n",
      "+-------+------+\n",
      "only showing top 20 rows\n",
      "\n"
     ]
    }
   ],
   "source": [
    "df_spark.groupby(\"i94addr\").count().sort(desc(\"count\")).show()"
   ]
  },
  {
   "cell_type": "code",
   "execution_count": 26,
   "id": "atmospheric-insertion",
   "metadata": {},
   "outputs": [
    {
     "name": "stdout",
     "output_type": "stream",
     "text": [
      "+-----+\n",
      "|occup|\n",
      "+-----+\n",
      "|  ELT|\n",
      "|  PHS|\n",
      "|  EXA|\n",
      "|  EXA|\n",
      "|  EXA|\n",
      "|  STU|\n",
      "|  STU|\n",
      "|  STU|\n",
      "|  MKT|\n",
      "|  STU|\n",
      "+-----+\n",
      "only showing top 10 rows\n",
      "\n"
     ]
    }
   ],
   "source": [
    "df_spark.select(\"occup\").where(col(\"occup\").isNotNull()).show(10)"
   ]
  },
  {
   "cell_type": "code",
   "execution_count": 27,
   "id": "significant-eight",
   "metadata": {},
   "outputs": [
    {
     "data": {
      "text/plain": [
       "111"
      ]
     },
     "execution_count": 27,
     "metadata": {},
     "output_type": "execute_result"
    }
   ],
   "source": [
    "df_spark.select(\"occup\").where(col(\"occup\").isNotNull()).dropDuplicates().count()"
   ]
  },
  {
   "cell_type": "markdown",
   "id": "experimental-organ",
   "metadata": {},
   "source": [
    "- no detailed description available"
   ]
  },
  {
   "cell_type": "code",
   "execution_count": 28,
   "id": "soviet-indication",
   "metadata": {},
   "outputs": [
    {
     "name": "stdout",
     "output_type": "stream",
     "text": [
      "+------+-------+\n",
      "|gender|  count|\n",
      "+------+-------+\n",
      "|     M|1377224|\n",
      "|     F|1302743|\n",
      "|  null| 414269|\n",
      "|     X|   1610|\n",
      "|     U|    467|\n",
      "+------+-------+\n",
      "\n"
     ]
    }
   ],
   "source": [
    "df_spark.groupby(\"gender\").count().sort(desc(\"count\")).show()"
   ]
  },
  {
   "cell_type": "markdown",
   "id": "interstate-hollywood",
   "metadata": {},
   "source": [
    "- X could be intersex or other\n",
    "- U could be Unknown\n",
    "- since it is not clear X will be combined with U for Unknown, Null will also be labeled as Unknown\n",
    "\n",
    "**Resources**\n",
    "- https://www.federalregister.gov/documents/2013/03/27/2013-06974/definition-of-form-i-94-to-include-electronic-format\n",
    "- https://www.themandarin.com.au/83991-what-is-gender-x/\n",
    "\n",
    "\n"
   ]
  },
  {
   "cell_type": "code",
   "execution_count": 29,
   "id": "elementary-consumer",
   "metadata": {},
   "outputs": [
    {
     "name": "stdout",
     "output_type": "stream",
     "text": [
      "+-------+------+\n",
      "|airline| count|\n",
      "+-------+------+\n",
      "|     AA|310091|\n",
      "|     UA|264271|\n",
      "|     DL|252526|\n",
      "|     BA|190997|\n",
      "|     LH|120556|\n",
      "|     VS|113384|\n",
      "|   null| 83627|\n",
      "|     AF| 81113|\n",
      "|     KE| 71047|\n",
      "|     JL| 69075|\n",
      "|     AM| 60307|\n",
      "|     EK| 55800|\n",
      "|     CM| 49990|\n",
      "|     B6| 49265|\n",
      "|     AV| 48921|\n",
      "|     JJ| 46277|\n",
      "|     LA| 43111|\n",
      "|     QF| 41945|\n",
      "|     NH| 40665|\n",
      "|     KL| 39978|\n",
      "+-------+------+\n",
      "only showing top 20 rows\n",
      "\n"
     ]
    }
   ],
   "source": [
    "df_spark.groupby(\"airline\").count().sort(desc(\"count\")).show()"
   ]
  },
  {
   "cell_type": "code",
   "execution_count": 30,
   "id": "champion-independence",
   "metadata": {},
   "outputs": [
    {
     "name": "stdout",
     "output_type": "stream",
     "text": [
      "+--------+-------+\n",
      "|visatype|  count|\n",
      "+--------+-------+\n",
      "|      WT|1309059|\n",
      "|      B2|1117897|\n",
      "|      WB| 282983|\n",
      "|      B1| 212410|\n",
      "|     GMT|  89133|\n",
      "|      F1|  39016|\n",
      "|      E2|  19383|\n",
      "|      CP|  14758|\n",
      "|      E1|   3743|\n",
      "|       I|   3176|\n",
      "|      F2|   2984|\n",
      "|      M1|   1317|\n",
      "|      I1|    234|\n",
      "|     GMB|    150|\n",
      "|      M2|     49|\n",
      "|     SBP|     11|\n",
      "|     CPL|     10|\n",
      "+--------+-------+\n",
      "\n"
     ]
    }
   ],
   "source": [
    "df_spark.groupby(\"visatype\").count().sort(desc(\"count\")).show()"
   ]
  },
  {
   "cell_type": "markdown",
   "id": "gross-requirement",
   "metadata": {},
   "source": [
    "- enrichment possible, get speaking description\n",
    "- https://travel.state.gov/content/travel/en/us-visas/visa-information-resources/all-visa-categories.html"
   ]
  },
  {
   "cell_type": "code",
   "execution_count": 31,
   "id": "regulated-housing",
   "metadata": {},
   "outputs": [
    {
     "name": "stdout",
     "output_type": "stream",
     "text": [
      "3075579\n",
      "3096313\n"
     ]
    }
   ],
   "source": [
    "# check for duplicates\n",
    "print(df_spark.select(\"admnum\").dropDuplicates().count())\n",
    "print(df_spark.select(\"admnum\").count())"
   ]
  },
  {
   "cell_type": "code",
   "execution_count": 32,
   "id": "middle-vienna",
   "metadata": {},
   "outputs": [
    {
     "name": "stdout",
     "output_type": "stream",
     "text": [
      "+---------------+-----+\n",
      "|         admnum|count|\n",
      "+---------------+-----+\n",
      "|            0.0|   68|\n",
      "| 7.812054623E10|   11|\n",
      "| 8.924999063E10|    9|\n",
      "| 4.652077483E10|    9|\n",
      "| 4.701040863E10|    8|\n",
      "| 8.904084763E10|    8|\n",
      "| 8.989482993E10|    7|\n",
      "|5.6036428333E10|    7|\n",
      "| 8.581902733E10|    7|\n",
      "| 3.697806763E10|    7|\n",
      "+---------------+-----+\n",
      "\n"
     ]
    }
   ],
   "source": [
    "df_spark.select(\"admnum\").groupBy(\"admnum\").count().sort(desc(\"count\")).limit(10).show()"
   ]
  },
  {
   "cell_type": "code",
   "execution_count": 34,
   "id": "electoral-smooth",
   "metadata": {},
   "outputs": [
    {
     "name": "stdout",
     "output_type": "stream",
     "text": [
      "+-------+-----+------+------+------+-------+-------+-------+-------+-------+------+-------+-----+--------+--------+-----+-------+-------+-------+-------+-------+--------+------+------+-------+--------------+-----+--------+------------+--------------+-------------+\n",
      "|  cicid|i94yr|i94mon|i94cit|i94res|i94port|arrdate|i94mode|i94addr|depdate|i94bir|i94visa|count|dtadfile|visapost|occup|entdepa|entdepd|entdepu|matflag|biryear| dtaddto|gender|insnum|airline|        admnum|fltno|visatype|arrival_date|departure_date|dtadfile_date|\n",
      "+-------+-----+------+------+------+-------+-------+-------+-------+-------+------+-------+-----+--------+--------+-----+-------+-------+-------+-------+-------+--------+------+------+-------+--------------+-----+--------+------------+--------------+-------------+\n",
      "|  60160| 2016|     4|   209|   209|    ANZ|  20545|      3|   null|  20548|    30|      1|    1|20160401|     KBO| null|      Z|      I|   null|      M|   1986|10302017|     M|  null|   null|7.812054623E10|00176|      E2|  2016-04-01|    2016-04-04|   2016-04-01|\n",
      "| 686275| 2016|     4|   209|   209|    PHO|  20548|      3|   null|  20549|    30|      1|    1|20160404|     KBO| null|      Z|      I|   null|      M|   1986|10302017|     M|  null|   null|7.812054623E10|00176|      E2|  2016-04-04|    2016-04-05|   2016-04-04|\n",
      "|1028948| 2016|     4|   209|   209|    DAL|  20550|      3|   null|  20551|    30|      1|    1|20160406|     KBO| null|      Z|      I|   null|      M|   1986|10302017|     M|  null|   null|7.812054623E10|00176|      E2|  2016-04-06|    2016-04-07|   2016-04-06|\n",
      "|1205825| 2016|     4|   209|   209|    SPM|  20551|      3|   null|  20552|    30|      1|    1|20160407|     KBO| null|      Z|      I|   null|      M|   1986|10302017|     M|  null|   null|7.812054623E10|00176|      E2|  2016-04-07|    2016-04-08|   2016-04-07|\n",
      "|2351681| 2016|     4|   209|   209|    TAM|  20557|      3|   null|  20558|    30|      1|    1|20160413|     KBO| null|      Z|      I|   null|      M|   1986|10302017|     M|  null|   null|7.812054623E10|00176|      E2|  2016-04-13|    2016-04-14|   2016-04-13|\n",
      "|2536187| 2016|     4|   209|   209|    SEA|  20558|      3|   null|  20559|    30|      1|    1|20160414|     KBO| null|      Z|      I|   null|      M|   1986|10302017|     M|  null|   null|7.812054623E10|00176|      E2|  2016-04-14|    2016-04-15|   2016-04-14|\n",
      "|2725142| 2016|     4|   209|   209|    NEW|  20559|      3|   null|  20560|    30|      1|    1|20160415|     KBO| null|      Z|      I|   null|      M|   1986|10302017|     M|  null|   null|7.812054623E10|00176|      E2|  2016-04-15|    2016-04-16|   2016-04-15|\n",
      "|2926596| 2016|     4|   209|   209|    HOU|  20560|      3|   null|  20561|    30|      1|    1|20160416|     KBO| null|      Z|      I|   null|      M|   1986|10302017|     M|  null|   null|7.812054623E10|00176|      E2|  2016-04-16|    2016-04-17|   2016-04-16|\n",
      "|3148858| 2016|     4|   209|   209|    ORL|  20561|      3|   null|  20562|    30|      1|    1|20160417|     KBO| null|      Z|      I|   null|      M|   1986|10302017|     M|  null|   null|7.812054623E10|00176|      E2|  2016-04-17|    2016-04-18|   2016-04-17|\n",
      "|4310543| 2016|     4|   209|   209|    HID|  20567|      3|   null|  20569|    30|      1|    1|20160423|     KBO| null|      Z|      I|   null|      M|   1986|10302017|     M|  null|   null|7.812054623E10|00176|      E2|  2016-04-23|    2016-04-25|   2016-04-23|\n",
      "|4895897| 2016|     4|   209|   209|    PSP|  20570|      3|   null|  20571|    30|      1|    1|20160426|     KBO| null|      Z|      I|   null|      M|   1986|10302017|     M|  null|   null|7.812054623E10|00176|      E2|  2016-04-26|    2016-04-27|   2016-04-26|\n",
      "+-------+-----+------+------+------+-------+-------+-------+-------+-------+------+-------+-----+--------+--------+-----+-------+-------+-------+-------+-------+--------+------+------+-------+--------------+-----+--------+------------+--------------+-------------+\n",
      "\n"
     ]
    }
   ],
   "source": [
    "df_spark.where(col(\"admnum\") == 7.812054623E10).sort(asc(\"arrival_date\")).show()"
   ]
  },
  {
   "cell_type": "markdown",
   "id": "thousand-comparative",
   "metadata": {},
   "source": [
    "- could be the same person"
   ]
  },
  {
   "cell_type": "code",
   "execution_count": 5,
   "id": "renewable-magnet",
   "metadata": {},
   "outputs": [],
   "source": [
    "# check entire dataset for duplicates (exclude primary key)\n",
    "cols = df_spark.columns[1:]\n",
    "if df_spark.count() > df_spark.dropDuplicates(cols).count():\n",
    "    raise ValueError('Data has duplicates')"
   ]
  },
  {
   "cell_type": "markdown",
   "id": "elementary-morning",
   "metadata": {},
   "source": [
    "- no duplicates found!"
   ]
  },
  {
   "cell_type": "code",
   "execution_count": 6,
   "id": "cooperative-request",
   "metadata": {},
   "outputs": [],
   "source": [
    "def check_nulls(df, column):\n",
    "    null_count =  df.select(column).where(col(column).isNull()).count()\n",
    "    print(f\"{null_count} for {column}\")"
   ]
  },
  {
   "cell_type": "code",
   "execution_count": 7,
   "id": "given-interim",
   "metadata": {},
   "outputs": [
    {
     "name": "stdout",
     "output_type": "stream",
     "text": [
      "0 for i94yr\n",
      "0 for i94mon\n",
      "0 for i94cit\n",
      "0 for i94res\n",
      "0 for i94port\n",
      "0 for arrdate\n",
      "239 for i94mode\n",
      "152592 for i94addr\n",
      "142457 for depdate\n",
      "802 for i94bir\n",
      "0 for i94visa\n",
      "0 for count\n",
      "1 for dtadfile\n",
      "1881250 for visapost\n",
      "3088187 for occup\n",
      "238 for entdepa\n",
      "138429 for entdepd\n",
      "3095921 for entdepu\n",
      "138429 for matflag\n",
      "802 for biryear\n",
      "477 for dtaddto\n",
      "414269 for gender\n",
      "2982605 for insnum\n",
      "83627 for airline\n",
      "0 for admnum\n",
      "19549 for fltno\n",
      "0 for visatype\n"
     ]
    }
   ],
   "source": [
    "for x in cols:\n",
    "    check_nulls(df_spark, x)"
   ]
  },
  {
   "cell_type": "code",
   "execution_count": 8,
   "id": "bacterial-cuisine",
   "metadata": {},
   "outputs": [],
   "source": [
    "# write as parquet\n",
    "#output_data = \"../data/\"\n",
    "#df_spark.write.parquet(output_data+\"i94.parquet\", mode=\"overwrite\", partitionBy=['i94yr', 'i94mon'] )"
   ]
  }
 ],
 "metadata": {
  "kernelspec": {
   "display_name": "Python 3",
   "language": "python",
   "name": "python3"
  },
  "language_info": {
   "codemirror_mode": {
    "name": "ipython",
    "version": 3
   },
   "file_extension": ".py",
   "mimetype": "text/x-python",
   "name": "python",
   "nbconvert_exporter": "python",
   "pygments_lexer": "ipython3",
   "version": "3.9.1"
  }
 },
 "nbformat": 4,
 "nbformat_minor": 5
}
