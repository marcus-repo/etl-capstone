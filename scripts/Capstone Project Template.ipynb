{
 "cells": [
  {
   "cell_type": "markdown",
   "metadata": {},
   "source": [
    "# Single Source of truth database for Cons&Analytics Inc.\n",
    "### Data Engineering Capstone Project\n",
    "\n",
    "#### Project Summary\n",
    "The purpose of this project is to establish a single source of truth database around **I94 US immigration data** for a startup consulting company **Cons&Analytics Inc.** in the area of tourism and trade to provide insights about business opportunities arising from immigration.\n",
    "\n",
    "A cloud based solution enables **data analysts** to faster implement customer specific use cases and gives **business consultants** a flexible database to answer analytical questions in day-to-day business revolving around trends in immigration patterns considering basic immigration profiles, purpose of travel, visa status and weather impacts.\n",
    "\n",
    "The technologies used in this projects are **AWS S3, EMR , Glue, Athena and Apache Airflow**. Python, Pyspark and SQL are the main programming languages used to build the data pipeline for cleansing and loading the source data into the AWS S3 datalake.\n",
    "\n",
    "\n",
    "The project follows the follow steps:\n",
    "* Step 1: Scope the Project and Gather Data\n",
    "* Step 2: Explore and Assess the Data\n",
    "* Step 3: Define the Data Model\n",
    "* Step 4: Run ETL to Model the Data\n",
    "* Step 5: Complete Project Write Up"
   ]
  },
  {
   "cell_type": "code",
   "execution_count": 1,
   "metadata": {},
   "outputs": [],
   "source": [
    "# imports and installs\n",
    "import pandas as pd"
   ]
  },
  {
   "cell_type": "markdown",
   "metadata": {},
   "source": [
    "### Step 1: Scope the Project and Gather Data\n",
    "\n",
    "#### Scope \n",
    "Explain what you plan to do in the project in more detail. What data do you use? What is your end solution look like? What tools did you use? etc>\n",
    "\n",
    "This is the relevant scope:\n",
    "- **Data understanding:**\n",
    "    - Perform exploratory analysis\n",
    "    - Understand business meaning of datasets\n",
    "    - Identify data quality issues\n",
    "    - Find potential new datasets for enrichment\n",
    "    - Decide on scope of data\n",
    "- **Data Architectur:**\n",
    "    - Define single source of truth database providing </br>\n",
    "        1) **data analysts** a data lake for advanced and individual customer use cases </br>\n",
    "        2) **business consultants** a structured and flexible data model for day to day business analytics and consulting work </br>\n",
    "    - Derive conceptual datamodel: Dimension and Fact tables\n",
    "    - Decide on Technology\n",
    "- **ETL-Pipeline:**\n",
    "    - Define Cleansing & Loading Strategy:\n",
    "        - Local cleansing vs cloud cleansing using EMR\n",
    "        - Semi vs fully-automated dataloading using Airflow\n",
    "        - Incremental vs Full Loading of Facts and Dimesions\n",
    "        - Update cycle of data (e. g. monthly)\n",
    "        - Decide on Technologies\n",
    "    - Decide on Data Quality Measurements\n",
    "        - Automated Tests e.g. using Record Counts, Null Counts\n",
    "        - Unit tests e. g. test transformation functions\n",
    "- **Develop and test the ETL pipeline**"
   ]
  },
  {
   "cell_type": "markdown",
   "metadata": {},
   "source": [
    "#### Describe and Gather Data \n",
    "Describe the data sets you're using. Where did it come from? What type of information is included? "
   ]
  },
  {
   "cell_type": "markdown",
   "metadata": {},
   "source": [
    "#### 1) I94 Immigration Data\n",
    "This dataset came from the US National Tourism and Trade Office and documents daily arrivals of immigrants from countries all over the world into the US and additional information such as type of visa, mode of transportation, age groups, states visited (first intended address only), and the top ports of entry (for select countries). </br>\n",
    "https://travel.trade.gov/research/reports/i94/historical/2016.html"
   ]
  },
  {
   "cell_type": "code",
   "execution_count": 2,
   "metadata": {},
   "outputs": [
    {
     "data": {
      "text/html": [
       "<div>\n",
       "<style scoped>\n",
       "    .dataframe tbody tr th:only-of-type {\n",
       "        vertical-align: middle;\n",
       "    }\n",
       "\n",
       "    .dataframe tbody tr th {\n",
       "        vertical-align: top;\n",
       "    }\n",
       "\n",
       "    .dataframe thead th {\n",
       "        text-align: right;\n",
       "    }\n",
       "</style>\n",
       "<table border=\"1\" class=\"dataframe\">\n",
       "  <thead>\n",
       "    <tr style=\"text-align: right;\">\n",
       "      <th></th>\n",
       "      <th>2027561</th>\n",
       "      <th>2171295</th>\n",
       "      <th>589494</th>\n",
       "      <th>2631158</th>\n",
       "      <th>3032257</th>\n",
       "    </tr>\n",
       "  </thead>\n",
       "  <tbody>\n",
       "    <tr>\n",
       "      <th>cicid</th>\n",
       "      <td>4084316.0</td>\n",
       "      <td>4422636.0</td>\n",
       "      <td>1195600.0</td>\n",
       "      <td>5291768.0</td>\n",
       "      <td>985523.0</td>\n",
       "    </tr>\n",
       "    <tr>\n",
       "      <th>i94yr</th>\n",
       "      <td>2016.0</td>\n",
       "      <td>2016.0</td>\n",
       "      <td>2016.0</td>\n",
       "      <td>2016.0</td>\n",
       "      <td>2016.0</td>\n",
       "    </tr>\n",
       "    <tr>\n",
       "      <th>i94mon</th>\n",
       "      <td>4.0</td>\n",
       "      <td>4.0</td>\n",
       "      <td>4.0</td>\n",
       "      <td>4.0</td>\n",
       "      <td>4.0</td>\n",
       "    </tr>\n",
       "    <tr>\n",
       "      <th>i94cit</th>\n",
       "      <td>209.0</td>\n",
       "      <td>582.0</td>\n",
       "      <td>148.0</td>\n",
       "      <td>297.0</td>\n",
       "      <td>111.0</td>\n",
       "    </tr>\n",
       "    <tr>\n",
       "      <th>i94res</th>\n",
       "      <td>209.0</td>\n",
       "      <td>582.0</td>\n",
       "      <td>112.0</td>\n",
       "      <td>297.0</td>\n",
       "      <td>111.0</td>\n",
       "    </tr>\n",
       "    <tr>\n",
       "      <th>i94port</th>\n",
       "      <td>HHW</td>\n",
       "      <td>MCA</td>\n",
       "      <td>OGG</td>\n",
       "      <td>LOS</td>\n",
       "      <td>CHM</td>\n",
       "    </tr>\n",
       "    <tr>\n",
       "      <th>arrdate</th>\n",
       "      <td>20566.0</td>\n",
       "      <td>20567.0</td>\n",
       "      <td>20551.0</td>\n",
       "      <td>20572.0</td>\n",
       "      <td>20550.0</td>\n",
       "    </tr>\n",
       "    <tr>\n",
       "      <th>i94mode</th>\n",
       "      <td>1.0</td>\n",
       "      <td>1.0</td>\n",
       "      <td>1.0</td>\n",
       "      <td>1.0</td>\n",
       "      <td>3.0</td>\n",
       "    </tr>\n",
       "    <tr>\n",
       "      <th>i94addr</th>\n",
       "      <td>HI</td>\n",
       "      <td>TX</td>\n",
       "      <td>FL</td>\n",
       "      <td>CA</td>\n",
       "      <td>NY</td>\n",
       "    </tr>\n",
       "    <tr>\n",
       "      <th>depdate</th>\n",
       "      <td>20573.0</td>\n",
       "      <td>20568.0</td>\n",
       "      <td>20571.0</td>\n",
       "      <td>20581.0</td>\n",
       "      <td>20553.0</td>\n",
       "    </tr>\n",
       "    <tr>\n",
       "      <th>i94bir</th>\n",
       "      <td>61.0</td>\n",
       "      <td>26.0</td>\n",
       "      <td>76.0</td>\n",
       "      <td>25.0</td>\n",
       "      <td>19.0</td>\n",
       "    </tr>\n",
       "    <tr>\n",
       "      <th>i94visa</th>\n",
       "      <td>2.0</td>\n",
       "      <td>2.0</td>\n",
       "      <td>2.0</td>\n",
       "      <td>2.0</td>\n",
       "      <td>2.0</td>\n",
       "    </tr>\n",
       "    <tr>\n",
       "      <th>count</th>\n",
       "      <td>1.0</td>\n",
       "      <td>1.0</td>\n",
       "      <td>1.0</td>\n",
       "      <td>1.0</td>\n",
       "      <td>1.0</td>\n",
       "    </tr>\n",
       "    <tr>\n",
       "      <th>dtadfile</th>\n",
       "      <td>20160422</td>\n",
       "      <td>20160423</td>\n",
       "      <td>20160407</td>\n",
       "      <td>20160428</td>\n",
       "      <td>20160406</td>\n",
       "    </tr>\n",
       "    <tr>\n",
       "      <th>visapost</th>\n",
       "      <td>NaN</td>\n",
       "      <td>MTR</td>\n",
       "      <td>NaN</td>\n",
       "      <td>DOH</td>\n",
       "      <td>NaN</td>\n",
       "    </tr>\n",
       "    <tr>\n",
       "      <th>occup</th>\n",
       "      <td>NaN</td>\n",
       "      <td>NaN</td>\n",
       "      <td>NaN</td>\n",
       "      <td>NaN</td>\n",
       "      <td>NaN</td>\n",
       "    </tr>\n",
       "    <tr>\n",
       "      <th>entdepa</th>\n",
       "      <td>G</td>\n",
       "      <td>G</td>\n",
       "      <td>G</td>\n",
       "      <td>G</td>\n",
       "      <td>Z</td>\n",
       "    </tr>\n",
       "    <tr>\n",
       "      <th>entdepd</th>\n",
       "      <td>O</td>\n",
       "      <td>R</td>\n",
       "      <td>O</td>\n",
       "      <td>O</td>\n",
       "      <td>K</td>\n",
       "    </tr>\n",
       "    <tr>\n",
       "      <th>entdepu</th>\n",
       "      <td>NaN</td>\n",
       "      <td>NaN</td>\n",
       "      <td>NaN</td>\n",
       "      <td>NaN</td>\n",
       "      <td>NaN</td>\n",
       "    </tr>\n",
       "    <tr>\n",
       "      <th>matflag</th>\n",
       "      <td>M</td>\n",
       "      <td>M</td>\n",
       "      <td>M</td>\n",
       "      <td>M</td>\n",
       "      <td>M</td>\n",
       "    </tr>\n",
       "    <tr>\n",
       "      <th>biryear</th>\n",
       "      <td>1955.0</td>\n",
       "      <td>1990.0</td>\n",
       "      <td>1940.0</td>\n",
       "      <td>1991.0</td>\n",
       "      <td>1997.0</td>\n",
       "    </tr>\n",
       "    <tr>\n",
       "      <th>dtaddto</th>\n",
       "      <td>07202016</td>\n",
       "      <td>10222016</td>\n",
       "      <td>07052016</td>\n",
       "      <td>10272016</td>\n",
       "      <td>07042016</td>\n",
       "    </tr>\n",
       "    <tr>\n",
       "      <th>gender</th>\n",
       "      <td>F</td>\n",
       "      <td>M</td>\n",
       "      <td>M</td>\n",
       "      <td>M</td>\n",
       "      <td>F</td>\n",
       "    </tr>\n",
       "    <tr>\n",
       "      <th>insnum</th>\n",
       "      <td>NaN</td>\n",
       "      <td>NaN</td>\n",
       "      <td>NaN</td>\n",
       "      <td>NaN</td>\n",
       "      <td>NaN</td>\n",
       "    </tr>\n",
       "    <tr>\n",
       "      <th>airline</th>\n",
       "      <td>JL</td>\n",
       "      <td>*GA</td>\n",
       "      <td>LH</td>\n",
       "      <td>QR</td>\n",
       "      <td>NaN</td>\n",
       "    </tr>\n",
       "    <tr>\n",
       "      <th>admnum</th>\n",
       "      <td>56582674633.0</td>\n",
       "      <td>94361995930.0</td>\n",
       "      <td>55780468433.0</td>\n",
       "      <td>94789696030.0</td>\n",
       "      <td>42322572633.0</td>\n",
       "    </tr>\n",
       "    <tr>\n",
       "      <th>fltno</th>\n",
       "      <td>00782</td>\n",
       "      <td>XBLNG</td>\n",
       "      <td>00464</td>\n",
       "      <td>00739</td>\n",
       "      <td>LAND</td>\n",
       "    </tr>\n",
       "    <tr>\n",
       "      <th>visatype</th>\n",
       "      <td>WT</td>\n",
       "      <td>B2</td>\n",
       "      <td>WT</td>\n",
       "      <td>B2</td>\n",
       "      <td>WT</td>\n",
       "    </tr>\n",
       "  </tbody>\n",
       "</table>\n",
       "</div>"
      ],
      "text/plain": [
       "                2027561        2171295        589494         2631158  \\\n",
       "cicid         4084316.0      4422636.0      1195600.0      5291768.0   \n",
       "i94yr            2016.0         2016.0         2016.0         2016.0   \n",
       "i94mon              4.0            4.0            4.0            4.0   \n",
       "i94cit            209.0          582.0          148.0          297.0   \n",
       "i94res            209.0          582.0          112.0          297.0   \n",
       "i94port             HHW            MCA            OGG            LOS   \n",
       "arrdate         20566.0        20567.0        20551.0        20572.0   \n",
       "i94mode             1.0            1.0            1.0            1.0   \n",
       "i94addr              HI             TX             FL             CA   \n",
       "depdate         20573.0        20568.0        20571.0        20581.0   \n",
       "i94bir             61.0           26.0           76.0           25.0   \n",
       "i94visa             2.0            2.0            2.0            2.0   \n",
       "count               1.0            1.0            1.0            1.0   \n",
       "dtadfile       20160422       20160423       20160407       20160428   \n",
       "visapost            NaN            MTR            NaN            DOH   \n",
       "occup               NaN            NaN            NaN            NaN   \n",
       "entdepa               G              G              G              G   \n",
       "entdepd               O              R              O              O   \n",
       "entdepu             NaN            NaN            NaN            NaN   \n",
       "matflag               M              M              M              M   \n",
       "biryear          1955.0         1990.0         1940.0         1991.0   \n",
       "dtaddto        07202016       10222016       07052016       10272016   \n",
       "gender                F              M              M              M   \n",
       "insnum              NaN            NaN            NaN            NaN   \n",
       "airline              JL            *GA             LH             QR   \n",
       "admnum    56582674633.0  94361995930.0  55780468433.0  94789696030.0   \n",
       "fltno             00782          XBLNG          00464          00739   \n",
       "visatype             WT             B2             WT             B2   \n",
       "\n",
       "                3032257  \n",
       "cicid          985523.0  \n",
       "i94yr            2016.0  \n",
       "i94mon              4.0  \n",
       "i94cit            111.0  \n",
       "i94res            111.0  \n",
       "i94port             CHM  \n",
       "arrdate         20550.0  \n",
       "i94mode             3.0  \n",
       "i94addr              NY  \n",
       "depdate         20553.0  \n",
       "i94bir             19.0  \n",
       "i94visa             2.0  \n",
       "count               1.0  \n",
       "dtadfile       20160406  \n",
       "visapost            NaN  \n",
       "occup               NaN  \n",
       "entdepa               Z  \n",
       "entdepd               K  \n",
       "entdepu             NaN  \n",
       "matflag               M  \n",
       "biryear          1997.0  \n",
       "dtaddto        07042016  \n",
       "gender                F  \n",
       "insnum              NaN  \n",
       "airline             NaN  \n",
       "admnum    42322572633.0  \n",
       "fltno              LAND  \n",
       "visatype             WT  "
      ]
     },
     "execution_count": 2,
     "metadata": {},
     "output_type": "execute_result"
    }
   ],
   "source": [
    "# Load sample data\n",
    "df = pd.read_csv('./data/immigration_data_sample.csv', index_col=[0])\n",
    "df.head().T"
   ]
  },
  {
   "cell_type": "markdown",
   "metadata": {},
   "source": [
    "- Note the full dataset is available in SAS data format by month (2016 Jan to Dec)\n",
    "- Only the most relevant fields will be used"
   ]
  },
  {
   "cell_type": "markdown",
   "metadata": {},
   "source": [
    "#### 2) Temperature Data\n",
    "This dataset came from Kaggle and includes monthly average temperatures sind 1743 across the globe and therefore can be used to establish correlations between US immigration and weather trends. </br>\n",
    "https://www.kaggle.com/berkeleyearth/climate-change-earth-surface-temperature-data"
   ]
  },
  {
   "cell_type": "code",
   "execution_count": 3,
   "metadata": {},
   "outputs": [
    {
     "data": {
      "text/html": [
       "<div>\n",
       "<style scoped>\n",
       "    .dataframe tbody tr th:only-of-type {\n",
       "        vertical-align: middle;\n",
       "    }\n",
       "\n",
       "    .dataframe tbody tr th {\n",
       "        vertical-align: top;\n",
       "    }\n",
       "\n",
       "    .dataframe thead th {\n",
       "        text-align: right;\n",
       "    }\n",
       "</style>\n",
       "<table border=\"1\" class=\"dataframe\">\n",
       "  <thead>\n",
       "    <tr style=\"text-align: right;\">\n",
       "      <th></th>\n",
       "      <th>dt</th>\n",
       "      <th>AverageTemperature</th>\n",
       "      <th>AverageTemperatureUncertainty</th>\n",
       "      <th>City</th>\n",
       "      <th>Country</th>\n",
       "      <th>Latitude</th>\n",
       "      <th>Longitude</th>\n",
       "    </tr>\n",
       "  </thead>\n",
       "  <tbody>\n",
       "    <tr>\n",
       "      <th>0</th>\n",
       "      <td>1743-11-01</td>\n",
       "      <td>6.068</td>\n",
       "      <td>1.737</td>\n",
       "      <td>Århus</td>\n",
       "      <td>Denmark</td>\n",
       "      <td>57.05N</td>\n",
       "      <td>10.33E</td>\n",
       "    </tr>\n",
       "    <tr>\n",
       "      <th>1</th>\n",
       "      <td>1743-12-01</td>\n",
       "      <td>NaN</td>\n",
       "      <td>NaN</td>\n",
       "      <td>Århus</td>\n",
       "      <td>Denmark</td>\n",
       "      <td>57.05N</td>\n",
       "      <td>10.33E</td>\n",
       "    </tr>\n",
       "    <tr>\n",
       "      <th>2</th>\n",
       "      <td>1744-01-01</td>\n",
       "      <td>NaN</td>\n",
       "      <td>NaN</td>\n",
       "      <td>Århus</td>\n",
       "      <td>Denmark</td>\n",
       "      <td>57.05N</td>\n",
       "      <td>10.33E</td>\n",
       "    </tr>\n",
       "    <tr>\n",
       "      <th>3</th>\n",
       "      <td>1744-02-01</td>\n",
       "      <td>NaN</td>\n",
       "      <td>NaN</td>\n",
       "      <td>Århus</td>\n",
       "      <td>Denmark</td>\n",
       "      <td>57.05N</td>\n",
       "      <td>10.33E</td>\n",
       "    </tr>\n",
       "    <tr>\n",
       "      <th>4</th>\n",
       "      <td>1744-03-01</td>\n",
       "      <td>NaN</td>\n",
       "      <td>NaN</td>\n",
       "      <td>Århus</td>\n",
       "      <td>Denmark</td>\n",
       "      <td>57.05N</td>\n",
       "      <td>10.33E</td>\n",
       "    </tr>\n",
       "  </tbody>\n",
       "</table>\n",
       "</div>"
      ],
      "text/plain": [
       "           dt  AverageTemperature  AverageTemperatureUncertainty   City  \\\n",
       "0  1743-11-01               6.068                          1.737  Århus   \n",
       "1  1743-12-01                 NaN                            NaN  Århus   \n",
       "2  1744-01-01                 NaN                            NaN  Århus   \n",
       "3  1744-02-01                 NaN                            NaN  Århus   \n",
       "4  1744-03-01                 NaN                            NaN  Århus   \n",
       "\n",
       "   Country Latitude Longitude  \n",
       "0  Denmark   57.05N    10.33E  \n",
       "1  Denmark   57.05N    10.33E  \n",
       "2  Denmark   57.05N    10.33E  \n",
       "3  Denmark   57.05N    10.33E  \n",
       "4  Denmark   57.05N    10.33E  "
      ]
     },
     "execution_count": 3,
     "metadata": {},
     "output_type": "execute_result"
    }
   ],
   "source": [
    "# Load sample data\n",
    "df_temp = pd.read_csv(\"./data/GlobalLandTemperaturesByCity.csv\")\n",
    "df_temp.head()"
   ]
  },
  {
   "cell_type": "markdown",
   "metadata": {},
   "source": [
    "- the data used for the project is limited to the last 20 years of data and aggregated by country and month\n",
    "- the detailed extraction and cleaning process is described in **temperature.ipynb**"
   ]
  },
  {
   "cell_type": "markdown",
   "metadata": {},
   "source": [
    "#### 3) Visa Categories\n",
    "The immigration dataset contains a visatype (e. g. E1). A more detailed description about Visa Categories will allow for clearer insights of the purpose of the travel (in combination with the i94visa). The dataset is scrapped from the \"Bureau Of Consulare Affairs\" using Beautiful Soup.\n",
    "</br>\n",
    "https://travel.state.gov/content/travel/en/us-visas/visa-information-resources/all-visa-categories.html"
   ]
  },
  {
   "cell_type": "markdown",
   "metadata": {},
   "source": [
    "- this is a sample of the cleaned version\n",
    "- the detailed extraction and cleaning process is described in **visa-categories.ipynb**"
   ]
  },
  {
   "cell_type": "code",
   "execution_count": 4,
   "metadata": {},
   "outputs": [
    {
     "data": {
      "text/html": [
       "<div>\n",
       "<style scoped>\n",
       "    .dataframe tbody tr th:only-of-type {\n",
       "        vertical-align: middle;\n",
       "    }\n",
       "\n",
       "    .dataframe tbody tr th {\n",
       "        vertical-align: top;\n",
       "    }\n",
       "\n",
       "    .dataframe thead th {\n",
       "        text-align: right;\n",
       "    }\n",
       "</style>\n",
       "<table border=\"1\" class=\"dataframe\">\n",
       "  <thead>\n",
       "    <tr style=\"text-align: right;\">\n",
       "      <th></th>\n",
       "      <th>visa_category</th>\n",
       "      <th>visa_group</th>\n",
       "      <th>visa_desc</th>\n",
       "      <th>visa</th>\n",
       "      <th>visa_id</th>\n",
       "    </tr>\n",
       "  </thead>\n",
       "  <tbody>\n",
       "    <tr>\n",
       "      <th>0</th>\n",
       "      <td>Unknown Visa Categories</td>\n",
       "      <td>Unknown Visa</td>\n",
       "      <td>Unknown</td>\n",
       "      <td>NaN</td>\n",
       "      <td>1</td>\n",
       "    </tr>\n",
       "    <tr>\n",
       "      <th>1</th>\n",
       "      <td>Immigrant Visa Categories</td>\n",
       "      <td>Immediate Relative &amp; Family Sponsored</td>\n",
       "      <td>Spouse of a U.S. Citizen</td>\n",
       "      <td>IR1</td>\n",
       "      <td>2</td>\n",
       "    </tr>\n",
       "    <tr>\n",
       "      <th>2</th>\n",
       "      <td>Immigrant Visa Categories</td>\n",
       "      <td>Immediate Relative &amp; Family Sponsored</td>\n",
       "      <td>Spouse of a U.S. Citizen</td>\n",
       "      <td>CR1</td>\n",
       "      <td>3</td>\n",
       "    </tr>\n",
       "    <tr>\n",
       "      <th>3</th>\n",
       "      <td>Immigrant Visa Categories</td>\n",
       "      <td>Immediate Relative &amp; Family Sponsored</td>\n",
       "      <td>Spouse of a U.S. Citizen awaiting approval of ...</td>\n",
       "      <td>K3</td>\n",
       "      <td>4</td>\n",
       "    </tr>\n",
       "    <tr>\n",
       "      <th>4</th>\n",
       "      <td>Immigrant Visa Categories</td>\n",
       "      <td>Immediate Relative &amp; Family Sponsored</td>\n",
       "      <td>Fiancé(e) to marry U.S. Citizen &amp; live in U.S.</td>\n",
       "      <td>K1</td>\n",
       "      <td>5</td>\n",
       "    </tr>\n",
       "  </tbody>\n",
       "</table>\n",
       "</div>"
      ],
      "text/plain": [
       "               visa_category                             visa_group  \\\n",
       "0    Unknown Visa Categories                           Unknown Visa   \n",
       "1  Immigrant Visa Categories  Immediate Relative & Family Sponsored   \n",
       "2  Immigrant Visa Categories  Immediate Relative & Family Sponsored   \n",
       "3  Immigrant Visa Categories  Immediate Relative & Family Sponsored   \n",
       "4  Immigrant Visa Categories  Immediate Relative & Family Sponsored   \n",
       "\n",
       "                                           visa_desc visa  visa_id  \n",
       "0                                            Unknown  NaN        1  \n",
       "1                           Spouse of a U.S. Citizen  IR1        2  \n",
       "2                           Spouse of a U.S. Citizen  CR1        3  \n",
       "3  Spouse of a U.S. Citizen awaiting approval of ...   K3        4  \n",
       "4     Fiancé(e) to marry U.S. Citizen & live in U.S.   K1        5  "
      ]
     },
     "execution_count": 4,
     "metadata": {},
     "output_type": "execute_result"
    }
   ],
   "source": [
    "df_visa = pd.read_csv(\"../staging/visa_categories.csv\", sep=\";\")\n",
    "df_visa.head()"
   ]
  },
  {
   "cell_type": "markdown",
   "metadata": {},
   "source": [
    "#### 4) Countries and Continents\n",
    "This dataset contains iso-codes for identification of countries and continents and is on the one hand a quality enrichment for drill-down possibilities of the I94 immigration data and allows for better drill-down opportunities.\n",
    "\n",
    "https://datahub.io/JohnSnowLabs/country-and-continent-codes-list#resource-country-and-continent-codes-list-csv"
   ]
  },
  {
   "cell_type": "code",
   "execution_count": 5,
   "metadata": {},
   "outputs": [
    {
     "data": {
      "text/html": [
       "<div>\n",
       "<style scoped>\n",
       "    .dataframe tbody tr th:only-of-type {\n",
       "        vertical-align: middle;\n",
       "    }\n",
       "\n",
       "    .dataframe tbody tr th {\n",
       "        vertical-align: top;\n",
       "    }\n",
       "\n",
       "    .dataframe thead th {\n",
       "        text-align: right;\n",
       "    }\n",
       "</style>\n",
       "<table border=\"1\" class=\"dataframe\">\n",
       "  <thead>\n",
       "    <tr style=\"text-align: right;\">\n",
       "      <th></th>\n",
       "      <th>country_id</th>\n",
       "      <th>country_name</th>\n",
       "      <th>continent_name</th>\n",
       "    </tr>\n",
       "  </thead>\n",
       "  <tbody>\n",
       "    <tr>\n",
       "      <th>0</th>\n",
       "      <td>DZ</td>\n",
       "      <td>Algeria, People's Democratic Republic of</td>\n",
       "      <td>Africa</td>\n",
       "    </tr>\n",
       "    <tr>\n",
       "      <th>1</th>\n",
       "      <td>AO</td>\n",
       "      <td>Angola, Republic of</td>\n",
       "      <td>Africa</td>\n",
       "    </tr>\n",
       "    <tr>\n",
       "      <th>2</th>\n",
       "      <td>AO</td>\n",
       "      <td>Angola, Republic of</td>\n",
       "      <td>Africa</td>\n",
       "    </tr>\n",
       "    <tr>\n",
       "      <th>3</th>\n",
       "      <td>BJ</td>\n",
       "      <td>Benin, Republic of</td>\n",
       "      <td>Africa</td>\n",
       "    </tr>\n",
       "    <tr>\n",
       "      <th>4</th>\n",
       "      <td>BW</td>\n",
       "      <td>Botswana, Republic of</td>\n",
       "      <td>Africa</td>\n",
       "    </tr>\n",
       "  </tbody>\n",
       "</table>\n",
       "</div>"
      ],
      "text/plain": [
       "  country_id                              country_name continent_name\n",
       "0         DZ  Algeria, People's Democratic Republic of         Africa\n",
       "1         AO                       Angola, Republic of         Africa\n",
       "2         AO                       Angola, Republic of         Africa\n",
       "3         BJ                        Benin, Republic of         Africa\n",
       "4         BW                     Botswana, Republic of         Africa"
      ]
     },
     "execution_count": 5,
     "metadata": {},
     "output_type": "execute_result"
    }
   ],
   "source": [
    "df_country = pd.read_csv(\"../staging/countries.csv\", sep=\";\")\n",
    "df_country.head()"
   ]
  },
  {
   "cell_type": "markdown",
   "metadata": {},
   "source": [
    "- this is a sample of the cleaned version\n",
    "- the detailed extraction and cleaning process is described in **countries.ipynb**"
   ]
  },
  {
   "cell_type": "markdown",
   "metadata": {},
   "source": [
    "### Step 2: Explore and Assess the Data\n",
    "#### Explore the Data \n",
    "Identify data quality issues, like missing values, duplicate data, etc.\n",
    "\n",
    "#### Cleaning Steps\n",
    "Document steps necessary to clean the data"
   ]
  },
  {
   "cell_type": "markdown",
   "metadata": {},
   "source": [
    "### Exploratorty Analysis and Cleansing Steps are documented in the following notebooks by dataset:\n",
    "- i94-exploratory-analysis.ipynb\n",
    "- temperature.ipynb \n",
    "- visa-categories.ipynb\n",
    "- countries.ipynb"
   ]
  },
  {
   "cell_type": "markdown",
   "metadata": {},
   "source": [
    "#### List of Analytical Questions derived from the exploratory analysis helping to establish the datamodel:\n",
    "\n",
    "- How many people arrive at a given state in a given month / throughout the year?\n",
    "- What is the purpose for arriving to the US (business or travel)?\n",
    "- What is the age gender distribution of immigrants?\n",
    "- Which continents/countries do people come from?\n",
    "- What is the proportion of immigrants with US citizenship?\n",
    "- What visa types are used frequently?\n",
    "- How is wheater impacting the immigration numbers?\n",
    "- How long are people staying on average in the US?\n",
    "- Are most people arriving by air?\n",
    "- Which is the first home address after arriving to the US?"
   ]
  },
  {
   "cell_type": "markdown",
   "metadata": {},
   "source": [
    "### Step 3: Define the Data Model\n",
    "#### 3.1 Conceptual Data Model\n",
    "Map out the conceptual data model and explain why you chose that model\n",
    "\n",
    "\n",
    "\n"
   ]
  },
  {
   "cell_type": "markdown",
   "metadata": {},
   "source": [
    "<img src=\"../imgs/datamodel.png\" style=\"width: 1000px;\">"
   ]
  },
  {
   "cell_type": "markdown",
   "metadata": {},
   "source": [
    "- The Datamodel follows mostly a **STAR SCHEMA**\n",
    "    - Dimension Tables:\n",
    "        - countries\n",
    "        - us_states\n",
    "        - dates\n",
    "        - mode\n",
    "        - purpose\n",
    "        - visa categories\n",
    "    - Fact Tables:\n",
    "        - i94\n",
    "</br>\n",
    "- The temperature table is implemented in **SNOWFLAKE** form because\n",
    "    - it has an optional relationship to i94 facts and\n",
    "    - the country dimension can be directly used with the i94 facts when temperature information is irrelevant\n",
    "</br></br>\n",
    "- note that country_id can be used to join to cit_country_id as well to res_country_id (from countries and temperature) \n",
    "- data_quality is a separated table with data quality metadata in respect to the overall datamodel"
   ]
  },
  {
   "cell_type": "markdown",
   "metadata": {},
   "source": [
    "- Benefits of the **STAR SCHEMA**\n",
    "    - Simplifies Queries (less joins needed)\n",
    "    - Fast Aggregation (e. g. sums, counts)\n",
    "    - Easy to understand and query\n",
    "</br></br>\n",
    "- Benefits of the **SNOWFLAKE SCHEMA**\n",
    "    - Needs less disk space (not a concern here)\n",
    "    - Protection from data integrity issues\n",
    "    - Easier to maintain"
   ]
  },
  {
   "cell_type": "markdown",
   "metadata": {},
   "source": [
    "- The Datamodel is availabe in **AWS S3 (parquet) and can be directly queried via Athena**\n",
    "- Example Query:\n",
    "    - Which continents/countries do people come from?"
   ]
  },
  {
   "cell_type": "code",
   "execution_count": 6,
   "metadata": {},
   "outputs": [],
   "source": [
    "\"\"\"\n",
    "SELECT \n",
    " co.continent_name\n",
    ",co.country_name\n",
    ",sum(count) as number_immigrants\n",
    "FROM \"model_db\".\"i94_parquet\" im\n",
    "LEFT OUTER JOIN \"model_db\".\"countries_parquet\" co\n",
    "ON co.country_id = im.cit_country_id\n",
    "GROUP BY\n",
    " co.continent_name\n",
    ",co.country_name\n",
    "order by co.continent_name, co.country_name\n",
    ";\n",
    "\"\"\";"
   ]
  },
  {
   "cell_type": "markdown",
   "metadata": {},
   "source": [
    "#### 3.2 Mapping Out Data Pipelines\n",
    "List the steps necessary to pipeline the data into the chosen data model"
   ]
  },
  {
   "cell_type": "markdown",
   "metadata": {},
   "source": [
    "<img src=\"../imgs/architecture.png\" style=\"width: 1000px;\">"
   ]
  },
  {
   "cell_type": "markdown",
   "metadata": {},
   "source": [
    "- **Airflow is used to manage the execution and monitoring of the overall data pipeline**\n",
    "    - A **monthly schedule** picks up the locally stored scripts (ETL and Data Quality) and moves the partially prepared data (see Data Transformation Details) from local Staging to the Amazon S3 Staging Bucket\n",
    "    - The Airflow Dag spins up an Amazon EMR Cluster and executes the above mentioned scripts as steps:</br>\n",
    "        **1) Staging to Model** - Extracts data from S3 (Staging), transforms and loads data into the SCHEMA implemented on S3 (Model) </br>\n",
    "        **2) Data Quality** - Reads current dataload from S3 (Model), performs data quality tests and saves results in \"data_quality_parquet\" folder on S3 (Model)\n",
    "    - The EMR Cluster is terminated automatically on success.\n",
    "    - The AWS Glue Crawler is started to update the Athena Database schema to be ready for querying"
   ]
  },
  {
   "cell_type": "markdown",
   "metadata": {},
   "source": [
    "- **Data Transformation Details**\n",
    "    - Dimension tables ***countries***, ***us_states***, ***visa_categories*** and ***temperature*** are prepared locally using python pandas: \n",
    "        - the data is small and rather static (e. g. contintents / countries and related iso-codes will rarely change over time)\n",
    "        - additionally, the cleansing of the visa categories is semi-automated due to the unstructured html-datasource and needs a visual examination before providing it to data consumers\n",
    "        - the data is cleansed and stored locally in csv-file format\n",
    "    - ***i94 immigration facts*** are transformed using AWS EMR and pyspark:\n",
    "        - these monthly SAS files are rather large (~500MB per file) which makes local transformation inefficient and difficult\n",
    "        - therefore the data is moved to S3 in its raw-form and transformed by the EMR cluster\n",
    "    - ***data \"ready-for-upload\"*** to S3 staging is stored in the local ***staging folder***"
   ]
  },
  {
   "cell_type": "markdown",
   "metadata": {},
   "source": [
    "- **Loading Stragegy**\n",
    "    - Dimension tables:\n",
    "        - ***countries***, ***us_states***, ***visa_categories*** </br> are overwritten with each (monthly) loading; even though a monthly update is not required, the data is uploaded along the i94 immigration data to ensure that potential updates are not missed\n",
    "        - ***dates*** depends on the i94 immigration facts and therefore is appended monthly to the coressponding parquet folder partitioned by year/month\n",
    "        - ***modes*** is defined in the etl-script and loaded with every run, previous data is overwritten\n",
    "        - ***purpose*** is defined in the etl-script and loaded with every run, previous data is overwritten\n",
    "        - ***temperature*** is overwritten with each (monthly) loading\n",
    "    - Fact tables:\n",
    "        - ***i94*** is monthly data and requires at most a monthly provisioning, therefore the data is appended monthly to the corresponding parquet folder partitioned by year/month"
   ]
  },
  {
   "cell_type": "markdown",
   "metadata": {},
   "source": [
    "- **Data Consumption** </br>\n",
    "    - Data Analysts can access the Datalake directly and enrich the data for customer specific use cases and build machine learning models e. g. predictive model considering temperature\n",
    "    - Business Consultants will be enabled to access the data via Amazon Athena since it is very easy to use"
   ]
  },
  {
   "cell_type": "markdown",
   "metadata": {},
   "source": [
    "### Step 4: Run Pipelines to Model the Data \n",
    "#### 4.1 Create the data model\n",
    "Build the data pipelines to create the data model."
   ]
  },
  {
   "cell_type": "markdown",
   "metadata": {},
   "source": [
    "- Local transformation pipes are stored in folliwing scripts:\n",
    "    - **countries.ipynb** outputs ***countries_mapping.csv***, ***countries.csv*** and ***us_states.csv*** to **local staging**\n",
    "    - **visa-categories.ipynb** outputs ***visa_categories.csv*** to **local staging**\n",
    "    - **temperature.ipynb** outputs ***temperature.csv*** to **local staging**"
   ]
  },
  {
   "cell_type": "markdown",
   "metadata": {},
   "source": [
    "### Airflow Graph"
   ]
  },
  {
   "cell_type": "markdown",
   "metadata": {},
   "source": [
    "<img src=\"../imgs/airflow_graph.png\" style=\"width: 1500px;\">"
   ]
  },
  {
   "cell_type": "markdown",
   "metadata": {},
   "source": [
    "- **spark_submit.py** contains the dag for the pipeline\n",
    "- ***load_data to S3*** </br>\n",
    "    - flag *load_sas*\n",
    "        - False: i94 sas files must be uploaded to AWS S3 staging prior to starting the dag either\n",
    "            - manually or \n",
    "            - with the script ***transfer-files-to-S3.py*** (recommended way)\n",
    "        - True: picks up the file based of the airflow schedule (local docker environment/large filesize can cause timeouts)\n",
    "    - *.csv files are always loaded\n",
    "- **etl-prod.py** Staging to model Step 1\n",
    "- **dq-prod.py** Data Quality Step 2"
   ]
  },
  {
   "cell_type": "markdown",
   "metadata": {},
   "source": [
    "### Ariflow Gantt"
   ]
  },
  {
   "cell_type": "markdown",
   "metadata": {},
   "source": [
    "<img src=\"../imgs/airflow_gant.png\" style=\"width: 1500px;\">"
   ]
  },
  {
   "cell_type": "markdown",
   "metadata": {},
   "source": [
    "### AWS Overview"
   ]
  },
  {
   "cell_type": "markdown",
   "metadata": {},
   "source": [
    "- AWS S3 Datalake"
   ]
  },
  {
   "cell_type": "markdown",
   "metadata": {},
   "source": [
    "<img src=\"../imgs/s3_datalake.png\" style=\"width: 1000px;\">"
   ]
  },
  {
   "cell_type": "markdown",
   "metadata": {},
   "source": [
    "- AWS S3 Staging"
   ]
  },
  {
   "cell_type": "markdown",
   "metadata": {},
   "source": [
    "<img src=\"../imgs/s3_staging.png\" style=\"width: 1000px;\">"
   ]
  },
  {
   "cell_type": "markdown",
   "metadata": {},
   "source": [
    "- AWS S3 I94"
   ]
  },
  {
   "cell_type": "markdown",
   "metadata": {},
   "source": [
    "<img src=\"../imgs/s3_staging_i94.png\" style=\"width: 1000px;\">"
   ]
  },
  {
   "cell_type": "markdown",
   "metadata": {},
   "source": [
    "- AWS S3 Scripts"
   ]
  },
  {
   "cell_type": "markdown",
   "metadata": {},
   "source": [
    "<img src=\"../imgs/s3_scripts.png\" style=\"width: 1000px;\">"
   ]
  },
  {
   "cell_type": "markdown",
   "metadata": {},
   "source": [
    "- AWS EMR Steps"
   ]
  },
  {
   "cell_type": "markdown",
   "metadata": {},
   "source": [
    "<img src=\"../imgs/emr_steps.png\" style=\"width: 1000px;\">"
   ]
  },
  {
   "cell_type": "markdown",
   "metadata": {},
   "source": [
    "- AWS S3 Model"
   ]
  },
  {
   "cell_type": "markdown",
   "metadata": {},
   "source": [
    "<img src=\"../imgs/s3_model.png\" style=\"width: 1000px;\">"
   ]
  },
  {
   "cell_type": "markdown",
   "metadata": {},
   "source": [
    "- AWS S3 model i94"
   ]
  },
  {
   "cell_type": "markdown",
   "metadata": {},
   "source": [
    "<img src=\"../imgs/s3_model_i94.png\" style=\"width: 1000px;\">"
   ]
  },
  {
   "cell_type": "markdown",
   "metadata": {},
   "source": [
    "- AWS S3 i94 parquet files"
   ]
  },
  {
   "cell_type": "markdown",
   "metadata": {},
   "source": [
    "<img src=\"../imgs/s3_model_i94_parquet.png\" style=\"width: 1000px;\">"
   ]
  },
  {
   "cell_type": "markdown",
   "metadata": {},
   "source": [
    "- AWS Glue Crawler"
   ]
  },
  {
   "cell_type": "markdown",
   "metadata": {},
   "source": [
    "<img src=\"../imgs/glue_crawler.png\" style=\"width: 1000px;\">"
   ]
  },
  {
   "cell_type": "markdown",
   "metadata": {},
   "source": [
    "- AWS Glue Tables"
   ]
  },
  {
   "cell_type": "markdown",
   "metadata": {},
   "source": [
    "<img src=\"../imgs/glue_tables.png\" style=\"width: 1000px;\">"
   ]
  },
  {
   "cell_type": "markdown",
   "metadata": {},
   "source": [
    "- AWS Athena Sample Query: Total number of immigrants in 2016 by month"
   ]
  },
  {
   "cell_type": "markdown",
   "metadata": {},
   "source": [
    "<img src=\"../imgs/athena_number_immigrants.png\" style=\"width: 1000px;\">"
   ]
  },
  {
   "cell_type": "markdown",
   "metadata": {},
   "source": [
    "- AWS Athena Sample Query: Tourists vs Business People from Germany to California/Florida by month"
   ]
  },
  {
   "cell_type": "code",
   "execution_count": 7,
   "metadata": {},
   "outputs": [],
   "source": [
    "\"\"\"\n",
    "    with t1 as (\n",
    "    SELECT \n",
    "     co.country_name\n",
    "    ,st.state_name\n",
    "    ,im.month\n",
    "    ,round(tp.temperature_mean,1) as mean_temperature\n",
    "    ,sum(case when pp.purpose_desc='Pleasure' then count else 0 end) as number_tourists\n",
    "    ,sum(case when pp.purpose_desc='Business' then count else 0 end) as number_business\n",
    "    ,sum(count) as number_immigrants\n",
    "    FROM \"model_db\".\"i94_parquet\" im\n",
    "    LEFT OUTER JOIN \"model_db\".\"countries_parquet\" co\n",
    "    ON co.country_id = im.res_country_id\n",
    "    LEFT OUTER JOIN \"model_db\".\"us_states_parquet\" st\n",
    "    ON st.state_id = im.state_id\n",
    "    LEFT OUTER JOIN \"model_db\".\"purpose_parquet\" pp\n",
    "    ON pp.purpose_id = im.purpose_id\n",
    "    LEFT OUTER JOIN \"model_db\".\"temperature_parquet\" tp\n",
    "    ON tp.country_id = im.res_country_id\n",
    "    and tp.month = im.month\n",
    "    where \n",
    "        co.country_id = 'DE'\n",
    "    and pp.purpose_desc in ('Business', 'Pleasure')\n",
    "    and im.state_id in ('FL','CA')\n",
    "    GROUP BY\n",
    "     co.country_name\n",
    "    ,im.month\n",
    "    ,st.state_name\n",
    "    ,tp.temperature_mean\n",
    "    order by co.country_name, st.state_name, cast(im.month as integer)\n",
    "    )\n",
    "    select\n",
    "     t1.country_name\n",
    "    ,t1.state_name\n",
    "    ,t1.month\n",
    "    ,t1.mean_temperature\n",
    "    ,t1.number_immigrants\n",
    "    , round(cast(number_tourists as double) / cast(number_immigrants as double) *100,0) as rel_tourists\n",
    "    , round(cast(number_business as double) / cast(number_immigrants as double) *100,0) as rel_business\n",
    "    from t1\n",
    "    ;\n",
    "\"\"\";"
   ]
  },
  {
   "cell_type": "markdown",
   "metadata": {},
   "source": [
    "<img src=\"../imgs/athena_germany_to_CA_FL.png\" style=\"width: 1200px;\">"
   ]
  },
  {
   "cell_type": "markdown",
   "metadata": {},
   "source": [
    "- Percentage of tourists coming to Florida stays consistently at ~90% throughout the year\n",
    "- Favorite visiting time to Florida is October and March, in this timeframe it is rather cold in Germany\n",
    "- On the contrary, proportion of business travels to California is fluctuating between 11% and 53%\n",
    "- August and September is busiest visiting time from Germany to California, tourists being the most"
   ]
  },
  {
   "cell_type": "markdown",
   "metadata": {},
   "source": [
    "#### 4.2 Data Quality Checks\n",
    "Explain the data quality checks you'll perform to ensure the pipeline ran as expected. These could include:\n",
    " * Integrity constraints on the relational database (e.g., unique key, data type, etc.)\n",
    " * Unit tests for the scripts to ensure they are doing the right thing\n",
    " * Source/Count checks to ensure completeness\n",
    " \n",
    "Run Quality Checks"
   ]
  },
  {
   "cell_type": "markdown",
   "metadata": {},
   "source": [
    "- Integrity is ensured by testing completeness of foreign key columns (no-nulls) although constraints are not enforced\n",
    "- The final data model is checked whether it received records (record count > 0)\n",
    "- A data quality report is created with each load which can be reviewed in more depth by a data engineer\n",
    "- The data pipeline will fail if one of the data quality tests fails\n",
    "- Cleansing steps are documented, tested and examined in the corresponding development scripts (folder dev)"
   ]
  },
  {
   "cell_type": "markdown",
   "metadata": {},
   "source": [
    "- Athena data_quality report"
   ]
  },
  {
   "cell_type": "markdown",
   "metadata": {},
   "source": [
    "<img src=\"../imgs/athena_data_quality_report.png\" style=\"width: 1000px;\">"
   ]
  },
  {
   "cell_type": "markdown",
   "metadata": {},
   "source": [
    "#### 4.3 Data dictionary \n",
    "Create a data dictionary for your data model. For each field, provide a brief description of what the data is and where it came from. You can include the data dictionary in the notebook or in a separate file."
   ]
  },
  {
   "cell_type": "code",
   "execution_count": 8,
   "metadata": {},
   "outputs": [],
   "source": [
    "pd.set_option('display.max_colwidth', 250)\n",
    "df_dict = pd.read_csv(\"data-dict.csv\", sep=\";\")"
   ]
  },
  {
   "cell_type": "code",
   "execution_count": 9,
   "metadata": {},
   "outputs": [
    {
     "data": {
      "text/html": [
       "<div>\n",
       "<style scoped>\n",
       "    .dataframe tbody tr th:only-of-type {\n",
       "        vertical-align: middle;\n",
       "    }\n",
       "\n",
       "    .dataframe tbody tr th {\n",
       "        vertical-align: top;\n",
       "    }\n",
       "\n",
       "    .dataframe thead th {\n",
       "        text-align: right;\n",
       "    }\n",
       "</style>\n",
       "<table border=\"1\" class=\"dataframe\">\n",
       "  <thead>\n",
       "    <tr style=\"text-align: right;\">\n",
       "      <th></th>\n",
       "      <th>Table</th>\n",
       "      <th>Field</th>\n",
       "      <th>Description</th>\n",
       "    </tr>\n",
       "  </thead>\n",
       "  <tbody>\n",
       "    <tr>\n",
       "      <th>0</th>\n",
       "      <td>i94</td>\n",
       "      <td>i94_id</td>\n",
       "      <td>monotonically increasing id used as a primary key</td>\n",
       "    </tr>\n",
       "    <tr>\n",
       "      <th>1</th>\n",
       "      <td>i94</td>\n",
       "      <td>cit_country_id</td>\n",
       "      <td>Country Codes (2-digit-ISO-Norm) represent the country of citizenship.</td>\n",
       "    </tr>\n",
       "    <tr>\n",
       "      <th>2</th>\n",
       "      <td>i94</td>\n",
       "      <td>res_country_id</td>\n",
       "      <td>Country Codes (2-digit-ISO-Norm) represent the country of residence.</td>\n",
       "    </tr>\n",
       "    <tr>\n",
       "      <th>3</th>\n",
       "      <td>i94</td>\n",
       "      <td>state_id</td>\n",
       "      <td>US-State Codes (2-digit), first address (state) after arrival</td>\n",
       "    </tr>\n",
       "    <tr>\n",
       "      <th>4</th>\n",
       "      <td>i94</td>\n",
       "      <td>mode_id</td>\n",
       "      <td>Arrival mode Integer see mode table</td>\n",
       "    </tr>\n",
       "    <tr>\n",
       "      <th>5</th>\n",
       "      <td>i94</td>\n",
       "      <td>purpose_id</td>\n",
       "      <td>Travel purpose Integer see purpose table</td>\n",
       "    </tr>\n",
       "    <tr>\n",
       "      <th>6</th>\n",
       "      <td>i94</td>\n",
       "      <td>visa_id</td>\n",
       "      <td>Type of Visa, Integer see visa_categories</td>\n",
       "    </tr>\n",
       "    <tr>\n",
       "      <th>7</th>\n",
       "      <td>i94</td>\n",
       "      <td>arrival_date</td>\n",
       "      <td>date of arrival to the US</td>\n",
       "    </tr>\n",
       "    <tr>\n",
       "      <th>8</th>\n",
       "      <td>i94</td>\n",
       "      <td>cic_id</td>\n",
       "      <td>Attribute: identifies the underlying immigration record</td>\n",
       "    </tr>\n",
       "    <tr>\n",
       "      <th>9</th>\n",
       "      <td>i94</td>\n",
       "      <td>gender</td>\n",
       "      <td>Attribute: M=Male, F=Female, U=Unknown</td>\n",
       "    </tr>\n",
       "    <tr>\n",
       "      <th>10</th>\n",
       "      <td>i94</td>\n",
       "      <td>count</td>\n",
       "      <td>Measure: Count of ariving persons</td>\n",
       "    </tr>\n",
       "    <tr>\n",
       "      <th>11</th>\n",
       "      <td>i94</td>\n",
       "      <td>duration</td>\n",
       "      <td>Measure: days staying in the US (departure_date - arrival_date)</td>\n",
       "    </tr>\n",
       "    <tr>\n",
       "      <th>12</th>\n",
       "      <td>i94</td>\n",
       "      <td>age</td>\n",
       "      <td>Age at point in time of the arrival</td>\n",
       "    </tr>\n",
       "    <tr>\n",
       "      <th>13</th>\n",
       "      <td>i94</td>\n",
       "      <td>year</td>\n",
       "      <td>Year of arrival</td>\n",
       "    </tr>\n",
       "    <tr>\n",
       "      <th>14</th>\n",
       "      <td>i94</td>\n",
       "      <td>month</td>\n",
       "      <td>Month of arrival</td>\n",
       "    </tr>\n",
       "    <tr>\n",
       "      <th>15</th>\n",
       "      <td>countries</td>\n",
       "      <td>country_id</td>\n",
       "      <td>Country Codes (2-digit-ISO-Norm)</td>\n",
       "    </tr>\n",
       "    <tr>\n",
       "      <th>16</th>\n",
       "      <td>countries</td>\n",
       "      <td>country_name</td>\n",
       "      <td>Name of the Country</td>\n",
       "    </tr>\n",
       "    <tr>\n",
       "      <th>17</th>\n",
       "      <td>countries</td>\n",
       "      <td>continent_name</td>\n",
       "      <td>Name of the Continent the Country belongs to</td>\n",
       "    </tr>\n",
       "    <tr>\n",
       "      <th>18</th>\n",
       "      <td>us_states</td>\n",
       "      <td>state_id</td>\n",
       "      <td>US-State code (2-digit)</td>\n",
       "    </tr>\n",
       "    <tr>\n",
       "      <th>19</th>\n",
       "      <td>us_states</td>\n",
       "      <td>state_name</td>\n",
       "      <td>US State Name</td>\n",
       "    </tr>\n",
       "    <tr>\n",
       "      <th>20</th>\n",
       "      <td>mode</td>\n",
       "      <td>mode_id</td>\n",
       "      <td>Arrival mode Integer</td>\n",
       "    </tr>\n",
       "    <tr>\n",
       "      <th>21</th>\n",
       "      <td>mode</td>\n",
       "      <td>mode_desc</td>\n",
       "      <td>Arrival mode description: Air, Land, Sea, Not Reported</td>\n",
       "    </tr>\n",
       "    <tr>\n",
       "      <th>22</th>\n",
       "      <td>purpose</td>\n",
       "      <td>purpose_id</td>\n",
       "      <td>Travel Purpose Integer</td>\n",
       "    </tr>\n",
       "    <tr>\n",
       "      <th>23</th>\n",
       "      <td>purpose</td>\n",
       "      <td>purpose_desc</td>\n",
       "      <td>Travel Purpose Description: Business, Pleasure, Student, Not Reported</td>\n",
       "    </tr>\n",
       "    <tr>\n",
       "      <th>24</th>\n",
       "      <td>visa_categories</td>\n",
       "      <td>visa_id</td>\n",
       "      <td>Visa type id Integer</td>\n",
       "    </tr>\n",
       "    <tr>\n",
       "      <th>25</th>\n",
       "      <td>visa_categories</td>\n",
       "      <td>visa</td>\n",
       "      <td>Visa Type (e. g. E1)</td>\n",
       "    </tr>\n",
       "    <tr>\n",
       "      <th>26</th>\n",
       "      <td>visa_categories</td>\n",
       "      <td>visa_desc</td>\n",
       "      <td>Description of the Type of Visa (e. g. Spouse of a U. S. Citizen)</td>\n",
       "    </tr>\n",
       "    <tr>\n",
       "      <th>27</th>\n",
       "      <td>visa_categories</td>\n",
       "      <td>visa_group</td>\n",
       "      <td>Describes a group of visa types (e. g. Immediate Relative &amp; Family Sponsored)</td>\n",
       "    </tr>\n",
       "    <tr>\n",
       "      <th>28</th>\n",
       "      <td>visa_categories</td>\n",
       "      <td>visa_category</td>\n",
       "      <td>Describes the visa category (e. g. Immigrant vs. Non Immigrant Visa)</td>\n",
       "    </tr>\n",
       "    <tr>\n",
       "      <th>29</th>\n",
       "      <td>temperature</td>\n",
       "      <td>country_id</td>\n",
       "      <td>Country Codes (2-digit-ISO-Norm)</td>\n",
       "    </tr>\n",
       "    <tr>\n",
       "      <th>30</th>\n",
       "      <td>temperature</td>\n",
       "      <td>month</td>\n",
       "      <td>month of a year (1, 2, …, 12)</td>\n",
       "    </tr>\n",
       "    <tr>\n",
       "      <th>31</th>\n",
       "      <td>temperature</td>\n",
       "      <td>temperature_mean</td>\n",
       "      <td>Average temperature of the Last 20 available years</td>\n",
       "    </tr>\n",
       "    <tr>\n",
       "      <th>32</th>\n",
       "      <td>temperature</td>\n",
       "      <td>temperature_min</td>\n",
       "      <td>Minimum temperature of the Last 20 available years</td>\n",
       "    </tr>\n",
       "    <tr>\n",
       "      <th>33</th>\n",
       "      <td>temperature</td>\n",
       "      <td>temperature_max</td>\n",
       "      <td>Maximum temperature of the last 20 available years</td>\n",
       "    </tr>\n",
       "    <tr>\n",
       "      <th>34</th>\n",
       "      <td>data_quality</td>\n",
       "      <td>year</td>\n",
       "      <td>reference year of the data (i94 year of arrival) associated with the data load</td>\n",
       "    </tr>\n",
       "    <tr>\n",
       "      <th>35</th>\n",
       "      <td>data_quality</td>\n",
       "      <td>month</td>\n",
       "      <td>reference month of the data (i94 month of arrival) associated with the data load</td>\n",
       "    </tr>\n",
       "    <tr>\n",
       "      <th>36</th>\n",
       "      <td>data_quality</td>\n",
       "      <td>test</td>\n",
       "      <td>has_rows, has_nulls</td>\n",
       "    </tr>\n",
       "    <tr>\n",
       "      <th>37</th>\n",
       "      <td>data_quality</td>\n",
       "      <td>result</td>\n",
       "      <td>passed or failed</td>\n",
       "    </tr>\n",
       "    <tr>\n",
       "      <th>38</th>\n",
       "      <td>data_quality</td>\n",
       "      <td>field</td>\n",
       "      <td>tested field if applicable</td>\n",
       "    </tr>\n",
       "    <tr>\n",
       "      <th>39</th>\n",
       "      <td>data_quality</td>\n",
       "      <td>num_recs</td>\n",
       "      <td>row count, null count of tests</td>\n",
       "    </tr>\n",
       "  </tbody>\n",
       "</table>\n",
       "</div>"
      ],
      "text/plain": [
       "              Table             Field  \\\n",
       "0               i94            i94_id   \n",
       "1               i94    cit_country_id   \n",
       "2               i94    res_country_id   \n",
       "3               i94          state_id   \n",
       "4               i94           mode_id   \n",
       "5               i94        purpose_id   \n",
       "6               i94           visa_id   \n",
       "7               i94      arrival_date   \n",
       "8               i94            cic_id   \n",
       "9               i94            gender   \n",
       "10              i94             count   \n",
       "11              i94          duration   \n",
       "12              i94               age   \n",
       "13              i94              year   \n",
       "14              i94             month   \n",
       "15        countries        country_id   \n",
       "16        countries      country_name   \n",
       "17        countries    continent_name   \n",
       "18        us_states          state_id   \n",
       "19        us_states        state_name   \n",
       "20             mode           mode_id   \n",
       "21             mode         mode_desc   \n",
       "22          purpose        purpose_id   \n",
       "23          purpose      purpose_desc   \n",
       "24  visa_categories           visa_id   \n",
       "25  visa_categories              visa   \n",
       "26  visa_categories         visa_desc   \n",
       "27  visa_categories        visa_group   \n",
       "28  visa_categories     visa_category   \n",
       "29      temperature        country_id   \n",
       "30      temperature             month   \n",
       "31      temperature  temperature_mean   \n",
       "32      temperature   temperature_min   \n",
       "33      temperature   temperature_max   \n",
       "34     data_quality              year   \n",
       "35     data_quality             month   \n",
       "36     data_quality              test   \n",
       "37     data_quality            result   \n",
       "38     data_quality             field   \n",
       "39     data_quality          num_recs   \n",
       "\n",
       "                                                                         Description  \n",
       "0                                  monotonically increasing id used as a primary key  \n",
       "1             Country Codes (2-digit-ISO-Norm) represent the country of citizenship.  \n",
       "2               Country Codes (2-digit-ISO-Norm) represent the country of residence.  \n",
       "3                      US-State Codes (2-digit), first address (state) after arrival  \n",
       "4                                                Arrival mode Integer see mode table  \n",
       "5                                           Travel purpose Integer see purpose table  \n",
       "6                                          Type of Visa, Integer see visa_categories  \n",
       "7                                                          date of arrival to the US  \n",
       "8                            Attribute: identifies the underlying immigration record  \n",
       "9                                             Attribute: M=Male, F=Female, U=Unknown  \n",
       "10                                                 Measure: Count of ariving persons  \n",
       "11                   Measure: days staying in the US (departure_date - arrival_date)  \n",
       "12                                               Age at point in time of the arrival  \n",
       "13                                                                   Year of arrival  \n",
       "14                                                                  Month of arrival  \n",
       "15                                                  Country Codes (2-digit-ISO-Norm)  \n",
       "16                                                               Name of the Country  \n",
       "17                                      Name of the Continent the Country belongs to  \n",
       "18                                                           US-State code (2-digit)  \n",
       "19                                                                     US State Name  \n",
       "20                                                              Arrival mode Integer  \n",
       "21                            Arrival mode description: Air, Land, Sea, Not Reported  \n",
       "22                                                            Travel Purpose Integer  \n",
       "23             Travel Purpose Description: Business, Pleasure, Student, Not Reported  \n",
       "24                                                              Visa type id Integer  \n",
       "25                                                              Visa Type (e. g. E1)  \n",
       "26                 Description of the Type of Visa (e. g. Spouse of a U. S. Citizen)  \n",
       "27     Describes a group of visa types (e. g. Immediate Relative & Family Sponsored)  \n",
       "28              Describes the visa category (e. g. Immigrant vs. Non Immigrant Visa)  \n",
       "29                                                  Country Codes (2-digit-ISO-Norm)  \n",
       "30                                                     month of a year (1, 2, …, 12)  \n",
       "31                                Average temperature of the Last 20 available years  \n",
       "32                                Minimum temperature of the Last 20 available years  \n",
       "33                                Maximum temperature of the last 20 available years  \n",
       "34    reference year of the data (i94 year of arrival) associated with the data load  \n",
       "35  reference month of the data (i94 month of arrival) associated with the data load  \n",
       "36                                                               has_rows, has_nulls  \n",
       "37                                                                  passed or failed  \n",
       "38                                                        tested field if applicable  \n",
       "39                                                    row count, null count of tests  "
      ]
     },
     "execution_count": 9,
     "metadata": {},
     "output_type": "execute_result"
    }
   ],
   "source": [
    "df_dict"
   ]
  },
  {
   "cell_type": "markdown",
   "metadata": {},
   "source": [
    "#### Step 5: Complete Project Write Up\n",
    "* Clearly state the rationale for the choice of tools and technologies for the project.\n",
    "    - **Amazon Simple Storage Service (S3)** is storage for the Internet. It is designed to make web-scale computing easier for developers.\n",
    "        </br>In this project S3 is used as a Datalake for the following reasons:\n",
    "        - Scalability:\n",
    "            - Once the demand for more storage increases, S3 can easily scale up at low cost rates\n",
    "            - A huge upfront investment into local hardware and maintenance of the infrastructure would be a risk\n",
    "            - Integration with other data (cloud-native) will be simple\n",
    "            - Data can be archived if no longer needed \"readily available\" at even lower cost rates\n",
    "        - Availability:\n",
    "            - Data is available around the clock and accessible from anywhere, which is a huge benefit for business consultants meeting customers accross the US or are in homeoffice\n",
    "        - Security:\n",
    "            - Data is secured in the companies Virtual Private Cloud\n",
    "            - Data can be encrypted if needed\n",
    "        - Integration:\n",
    "            - S3 Integrates easily with other AWS Services, e. g. EMR and Athena\n",
    "            - Advanced services such as AWS Forecasting can easily access the data without the need for further data movement\n",
    "    - **Amazon Elastic Map Reduce (EMR)** is a managed cluster platform that simplifies running big data frameworks, such as Apache Hadoop and Apache Spark\n",
    "        - The Immigration SAS datafiles are rather huge (~500MB per file) and are at the core of the current datamodel\n",
    "        - Since Apache Spark is designed to process huge amounts of data in parallel it is a perfect choice for the data transformation\n",
    "        - The EMR Cluster is used very efficiently for that purpose, the cluster spins up once needed and turns down once the job is completed\n",
    "        - This means it is very ressource efficient and therefore good for the environment and cost effective (since it is not running around the clock)\n",
    "    - **Amazon Athena** is an interactive query service that makes it easy to analyze data directly in Amazon Simple Storage Service (Amazon S3) using standard SQL .\n",
    "        - Integrates seamlessly with the S3 model bucket and parquet files\n",
    "        - Since the parquet files provide already a schema (as defined in the transformation process) it can be re-used for Athena\n",
    "        - A simple aws glue crawler can update Athena with new partitions once arrived\n",
    "        - Athena uses native SQL and therefore on-demand queries can be executed without needing to maintain a separate infrastructure / advanced databases such as Redshift\n",
    "        - Also ideal for a startup with a small number of users; cost and ressource efficient\n",
    "    - **Apache Airflow** is an open-source workflow management platform.\n",
    "        - Since Airflow monitors the overall pipeline it is not only ressource efficient it also secures the data quality\n",
    "        - Scheduling capabilities lead to full automation of worfklows\n",
    "        - Clear transparency which steps completed successfully and which not (easier debugging possible)\n",
    "        - Graphical interface allows to understand the completion times of each task so that long running statements can be spotted and improved\n",
    "       \n",
    "</br>"
   ]
  },
  {
   "cell_type": "markdown",
   "metadata": {},
   "source": [
    "* Propose how often the data should be updated and why.\n",
    "    - The immigration data files cover a whole month of data therefore it is reasonable to update the datamodel once a month, this will help to stay on track for the latest developments on the immigration to discover trends\n",
    "    - The dimension tables are partially static so an update is reasonable once major changes happen (see Data Transformation Details above)\n",
    "* Write a description of how you would approach the problem differently under the following scenarios:\n",
    " * The data was increased by 100x.\n",
    "       - AWS S3 will be able to handle the additional data with no effort.\n",
    "       - The data is stored in a columnar file format (parquet) which has the benefit of fast data aggregations, so no change required.\n",
    "       - The Apache Spark cluster is also scalable, it would be just a matter of adding additional ressources to the cluster.\n",
    "       - Depending on the major use cases AWS Athena can still make sense. The data is partitioned by year and month and therefore does not need to read through all the data if e. g. analytics are based on the more recent data. \n",
    " * The data populates a dashboard that must be updated on a daily basis by 7am every day.\n",
    "    - Due to the use of Apache Airflow it is just a matter of re-scheduling the workflow. \n",
    "    - I generally would recommend to migrate the local Airflow solution to AWS as well. There is a relatively new managed service (MWAA) for that as well allowing for better scalability. \n",
    "    - A dashboard such as Tableau can be connected to Athena to feed the data.\n",
    " * The database needed to be accessed by 100+ people.\n",
    "   - Athena would still work however it would make sense to build some data views which are specific to the use cases and to manage the access rights therewith. \n",
    "   - If there are many queries running against the database a better choice might be to replace Athena with a high end database which is permanenlty available (such as Redshift). \n",
    "   - The transition would be rather seamless in my point of view. It is just a matter of adding another task in the workflow which copies the data to redshift. \n",
    "   - This could be either done from the AWS EMR Cluster or from the AWS S3 datamodel. The Redshift Copy statment is very efficient and parquet is a supported file format."
   ]
  },
  {
   "cell_type": "markdown",
   "metadata": {},
   "source": [
    "### Folder Structure"
   ]
  },
  {
   "cell_type": "markdown",
   "metadata": {},
   "source": [
    "##### Repository\n",
    "\n",
    "```\n",
    "etl-capstone\n",
    "|-- dags\n",
    "|\t|-- config_variables.json\n",
    "|\t|-- dq-prod.py\n",
    "|\t|-- etl-prod.py\n",
    "|\t|-- job_flow_overrides.json\n",
    "|\t|-- spark_submit.py\n",
    "|-- imgs\n",
    "|-- plugins\n",
    "|\t|-- __init__.py\n",
    "|\t|-- operators\n",
    "|\t\t|-- __init__.py\n",
    "|\t\t|-- glue_crawler.py\n",
    "|\t\t|-- stage_s3.py\n",
    "|-- scripts\n",
    "|\t|-- dev\n",
    "|\t|\t|-- dq-dev.ipynb\n",
    "|\t|\t|-- etl-dev.ipynb\n",
    "|\t|\t|-- glue-crawler-dev.ipynb\n",
    "|\t|-- Capstone Project Template.ipynb\n",
    "|\t|-- countries.ipynb\n",
    "|\t|-- data-dict.csv\n",
    "|\t|-- i94-exploratory-analysis.ipynb\n",
    "|\t|-- temperature.ipynb\n",
    "|\t|-- transfer-files-to-S3.py\n",
    "|\t|-- visa-categories.ipynb\n",
    "|-- staging (not available in git)\n",
    "\t|-- i94\n",
    "\t|\t|-- i94_apr16_sub.sas7bdat\n",
    "\t|\t|-- i94_aug16_sub.sas7bdat\n",
    "\t|\t|-- xxx.sas7bdat\n",
    "\t|-- countries_mapping.csv\n",
    "\t|-- countries.csv\n",
    "\t|-- temperature.csv\n",
    "\t|-- us_states.csv\n",
    "\t|-- visa_categories.csv\n",
    "```"
   ]
  },
  {
   "cell_type": "markdown",
   "metadata": {},
   "source": [
    "##### AWS S3 Bucket\n",
    "\n",
    "```\n",
    "etl-capstone\n",
    "|-- athena/\n",
    "|-- model/\n",
    "|\t|-- countries.parquet/\n",
    "|\t|-- data_quality.parquet/\n",
    "|\t|-- dates.parquet/\n",
    "|\t|-- i94.parquet/\n",
    "|\t|\t|--2016/\n",
    "|\t|\t\t|--01/\n",
    "|\t|\t\t|--02/\n",
    "|\t|-- mode.parquet/\n",
    "|\t|-- purpose.parquet/\n",
    "|\t|-- states.parquet/\n",
    "|\t|-- visa_categories.parquet/\n",
    "|-- staging/\n",
    "|\t|-- countries_mapping.csv\n",
    "|\t|-- countries.csv\n",
    "|\t|-- i94\n",
    "|\t|\t|-- i94_2016-01_sub.sas7bdat\n",
    "|\t|\t|-- i94_2016-02_sub.sas7bdat\n",
    "|\t|\t|-- xxx.sas7bdat\n",
    "|\t|-- temperature.csv\n",
    "|\t|-- us_states.csv\n",
    "|\t|-- visa_categories.csv\n",
    "|-- scripts/\n",
    "\t|-- etl-prod.py\n",
    "\t|-- dq-prod.py\n",
    "```"
   ]
  },
  {
   "cell_type": "markdown",
   "metadata": {},
   "source": [
    "### Installation"
   ]
  },
  {
   "cell_type": "markdown",
   "metadata": {},
   "source": [
    "##### Pre-Requesites\n",
    "- AWS Account\n",
    "- AWS CLI 2 locally installed / credentials configured (accessed by docker-airflow)\n",
    "- Docker\n",
    "- python 3\n",
    "- jupyter lab\n",
    "- pandas\n",
    "- pyspark\n",
    "- pycountry\n",
    "- beautiful soup"
   ]
  },
  {
   "cell_type": "markdown",
   "metadata": {},
   "source": [
    "##### Steps to setup Pipeline\n",
    "\n",
    "- create aws bucket\n",
    "- setup roles for EMR cluster\n",
    "- run local ipynb scripts\n",
    "- transfer files to s3 (or set load_sas = True)\n",
    "- start docker airflow\n",
    "- import config_variables to airflow\n",
    "- create aws glue crawler**\n",
    "- run dag\n",
    "\n",
    "** to make use of the parquet-schema, the model needs to be loaded up to step \"Staging to Model\""
   ]
  },
  {
   "cell_type": "markdown",
   "metadata": {},
   "source": [
    "- run docker airflow"
   ]
  },
  {
   "cell_type": "markdown",
   "metadata": {},
   "source": [
    "```docker-compose -f docker-compose-LocalExecutor.yml up -d```"
   ]
  },
  {
   "cell_type": "markdown",
   "metadata": {},
   "source": [
    "- manual execution of ETL pipeline EMR cluster (ssh into cluster) for debugging"
   ]
  },
  {
   "cell_type": "markdown",
   "metadata": {},
   "source": [
    "```/usr/bin/spark-submit --packages \"saurfang:spark-sas7bdat:2.1.0-s_2.11\" \"s3://<bucket_name>/scripts/etl-prod.py\" \"<bucket_name>\" \"i94_2016-01_sub.sas7bdat\"``` "
   ]
  },
  {
   "cell_type": "markdown",
   "metadata": {},
   "source": [
    "```/usr/bin/spark-submit \"s3://<bucket_name>/scripts/dq-prod.py <bucket_name> 2016 1```"
   ]
  },
  {
   "cell_type": "markdown",
   "metadata": {},
   "source": [
    "### Ressources"
   ]
  },
  {
   "cell_type": "markdown",
   "metadata": {},
   "source": [
    "- https://github.com/puckel/docker-airflow\n",
    "- https://programmaticponderings.com/2020/12/24/running-spark-jobs-on-amazon-emr-with-apache-airflow-using-the-new-amazon-managed-workflows-for-apache-airflow-amazon-mwaa-service-on-aws/\n",
    "- https://www.startdataengineering.com/post/how-to-submit-spark-jobs-to-emr-cluster-from-airflow/\n",
    "- https://stackoverflow.com/questions/52996591/wait-until-aws-glue-crawler-has-finished-running"
   ]
  }
 ],
 "metadata": {
  "kernelspec": {
   "display_name": "Python 3",
   "language": "python",
   "name": "python3"
  },
  "language_info": {
   "codemirror_mode": {
    "name": "ipython",
    "version": 3
   },
   "file_extension": ".py",
   "mimetype": "text/x-python",
   "name": "python",
   "nbconvert_exporter": "python",
   "pygments_lexer": "ipython3",
   "version": "3.9.1"
  }
 },
 "nbformat": 4,
 "nbformat_minor": 4
}
