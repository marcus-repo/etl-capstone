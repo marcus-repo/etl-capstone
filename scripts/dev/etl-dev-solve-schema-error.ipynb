{
 "cells": [
  {
   "cell_type": "markdown",
   "id": "hawaiian-spotlight",
   "metadata": {},
   "source": [
    "# ETL Development - Solve Schema Error on June file"
   ]
  },
  {
   "cell_type": "markdown",
   "id": "pending-parish",
   "metadata": {},
   "source": [
    "- Base template for the etl.py\n",
    "- Documents cleaning steps\n",
    "- Each cleaning step is tested on the i94 dataset"
   ]
  },
  {
   "cell_type": "code",
   "execution_count": 1,
   "id": "assured-luxury",
   "metadata": {},
   "outputs": [
    {
     "name": "stdout",
     "output_type": "stream",
     "text": [
      "c:\\spark\n",
      "c:\\spark\n",
      "C:\\Program Files\\Zulu\\zulu-8-jre\\\n",
      "c:\\Hadoop\n"
     ]
    }
   ],
   "source": [
    "from datetime import datetime, timedelta\n",
    "\n",
    "import configparser\n",
    "import os\n",
    "from pprint import pprint\n",
    "\n",
    "import pandas as pd, numpy as np\n",
    "import matplotlib.pyplot as plt\n",
    "\n",
    "import findspark\n",
    "findspark.init()\n",
    "print(findspark.find())\n",
    "print(os.environ['SPARK_HOME'])\n",
    "print(os.environ['JAVA_HOME'])\n",
    "print(os.environ['HADOOP_HOME'])\n",
    "\n",
    "from pyspark.sql import SparkSession\n",
    "from pyspark.sql.functions import udf\n",
    "from pyspark.sql.functions import col, asc, desc, min, max, coalesce, lit\n",
    "from pyspark.sql.types import *\n",
    "\n",
    "pd.set_option('display.max_rows', 50)"
   ]
  },
  {
   "cell_type": "markdown",
   "id": "arranged-honduras",
   "metadata": {},
   "source": [
    "## Configs"
   ]
  },
  {
   "cell_type": "code",
   "execution_count": 4,
   "id": "treated-israeli",
   "metadata": {},
   "outputs": [],
   "source": [
    "def create_spark_session(local=True):\n",
    "    \"\"\"\n",
    "    Creates and returns spark session.\n",
    "    \"\"\"\n",
    "    spark = SparkSession \\\n",
    "        .builder \\\n",
    "        .config(\"spark.jars.packages\", \"saurfang:spark-sas7bdat:3.0.0-s_2.12\") \\\n",
    "        .enableHiveSupport() \\\n",
    "        .getOrCreate()\n",
    "    \n",
    "    #spark.conf.set(\"mapreduce.fileoutputcommitter.algorithm.version\", \"2\")\n",
    "    return spark\n",
    "\n",
    "# create spark session\n",
    "spark = create_spark_session()"
   ]
  },
  {
   "cell_type": "markdown",
   "id": "attempted-operations",
   "metadata": {},
   "source": [
    "## Read I94"
   ]
  },
  {
   "cell_type": "code",
   "execution_count": 11,
   "id": "continuous-environment",
   "metadata": {},
   "outputs": [],
   "source": [
    "# define schema\n",
    "# https://knowledge.udacity.com/questions/316417 - I94cit and I94 res clarification\n",
    "\n",
    "i94_schema = StructType([\n",
    "    StructField(\"cicid\", IntegerType(), True),    # id\n",
    "    StructField(\"i94yr\", IntegerType(), True),    # Year\n",
    "    StructField(\"i94mon\", IntegerType(), True),   # Month\n",
    "    StructField(\"i94cit\", IntegerType(), True),   # Country Codes I94CIT represents the country of citizenship.\n",
    "    StructField(\"i94res\", IntegerType(), True),   # Country Codes I94RES represents the country of residence.\n",
    "    StructField(\"i94port\", StringType(), True),   # e. g. 'DTH'\t=\t'DUTCH HARBOR, AK  \n",
    "    StructField(\"arrdate\", IntegerType(), True),  # ARRDATE is the Arrival Date in the USA. SAS date numeric field\n",
    "    StructField(\"i94mode\", IntegerType(), True),  # Air, Sea, Land ...\n",
    "    StructField(\"i94addr\", StringType(), True),   # States: FL, ...\n",
    "    StructField(\"depdate\", IntegerType(), True),  # SAS date numeric field \n",
    "    StructField(\"i94bir\", IntegerType(), True),   # Age of Respondent in Years\n",
    "    StructField(\"i94visa\", IntegerType(), True),  # Business, Pleasure, Student\n",
    "    StructField(\"count\", IntegerType(), True),    # COUNT - Used for summary statistics\n",
    "    StructField(\"dtadfile\", StringType(), True),  # DTADFILE - Character Date Field - Date added to I-94 Files - CIC does not use\n",
    "    StructField(\"visapost\", StringType(), True),  # VISAPOST - Department of State where where Visa was issued - CIC does not use\n",
    "    StructField(\"occup\", StringType(), True),     # OCCUP - Occupation that will be performed in U.S. - CIC does not use\n",
    "    StructField(\"entdepa\", StringType(), True),   # ENTDEPA - Arrival Flag - admitted or paroled into the U.S. - CIC does not use\n",
    "    StructField(\"entdepd\", StringType(), True),   # ENTDEPD - Departure Flag - Departed, lost I-94 or is deceased - CIC does not use\n",
    "    StructField(\"entdepu\", StringType(), True),   # ENTDEPU - Update Flag - Either apprehended, overstayed, adjusted to perm residence - CIC does not use\n",
    "    StructField(\"matflag\", StringType(), True),   # MATFLAG - Match flag - Match of arrival and departure records\n",
    "    StructField(\"biryear\", IntegerType(), True),  # BIRYEAR - 4 digit year of birth\n",
    "    StructField(\"dtaddto\", StringType(), True),   # DTADDTO - Character Date Field - Date to which admitted to U.S. (allowed to stay until) - CIC does not use\n",
    "    StructField(\"gender\", StringType(), True),    # GENDER - Non-immigrant sex\n",
    "    StructField(\"insnum\", StringType(), True),    # INSNUM - INS number\n",
    "    StructField(\"airline\", StringType(), True),   # AIRLINE - Airline used to arrive in U.S.\n",
    "    StructField(\"admnum\", DoubleType(), True),    # ADMNUM - Admission Number\n",
    "    StructField(\"fltno\", StringType(), True),     # FLTNO - Flight number of Airline used to arrive in U.S.\n",
    "    StructField(\"visatype\", StringType(), True),  # VISATYPE - Class of admission legally admitting the non-immigrant to temporarily stay in U.S.\n",
    "])        "
   ]
  },
  {
   "cell_type": "code",
   "execution_count": 35,
   "id": "creative-pulse",
   "metadata": {},
   "outputs": [
    {
     "name": "stdout",
     "output_type": "stream",
     "text": [
      "Alternative Read\n",
      "3574989\n"
     ]
    }
   ],
   "source": [
    "# read spark with schema definition\n",
    "input_data = '../../staging/i94/i94_jun16_sub.sas7bdat'\n",
    "try:\n",
    "    df_spark = spark.read.format('com.github.saurfang.sas.spark').load(input_data , schema=i94_schema) # , mode='DROPMALFORMED')\n",
    "except Exception:\n",
    "    print(\"Error Reading the file.\")\n",
    "else:\n",
    "    print(\"Alternative Read\")\n",
    "    df_spark_no_schema = spark.read.format('com.github.saurfang.sas.spark').load(input_data)\n",
    "    df_spark_no_schema.createOrReplaceTempView(\"i94_no_schema\")\n",
    "    \n",
    "    df_spark = \\\n",
    "        spark.sql(\"\"\"select\n",
    "                         int(cicid) \n",
    "                        ,int(i94yr)\n",
    "                        ,int(i94mon)\n",
    "                        ,int(i94cit)\n",
    "                        ,int(i94res)\n",
    "                        ,string(i94port)\n",
    "                        ,int(arrdate)\n",
    "                        ,int(i94mode)\n",
    "                        ,string(i94addr)\n",
    "                        ,int(depdate)\n",
    "                        ,int(i94bir)\n",
    "                        ,int(i94visa)\n",
    "                        ,int(count)\n",
    "                        ,string(dtadfile)\n",
    "                        ,string(visapost)\n",
    "                        ,string(occup)\n",
    "                        ,string(entdepa)\n",
    "                        ,string(entdepd)\n",
    "                        ,string(entdepu)\n",
    "                        ,string(matflag)\n",
    "                        ,int(biryear)\n",
    "                        ,string(dtaddto)\n",
    "                        ,string(gender)\n",
    "                        ,string(insnum)\n",
    "                        ,string(airline)\n",
    "                        ,double(admnum)\n",
    "                        ,string(fltno)\n",
    "                        ,string(visatype)\n",
    "                    from i94_no_schema\n",
    "                \"\"\")\n",
    "\n",
    "print(df_spark.count())"
   ]
  },
  {
   "cell_type": "code",
   "execution_count": 36,
   "id": "better-startup",
   "metadata": {},
   "outputs": [
    {
     "name": "stdout",
     "output_type": "stream",
     "text": [
      "root\n",
      " |-- cicid: integer (nullable = true)\n",
      " |-- i94yr: integer (nullable = true)\n",
      " |-- i94mon: integer (nullable = true)\n",
      " |-- i94cit: integer (nullable = true)\n",
      " |-- i94res: integer (nullable = true)\n",
      " |-- i94port: string (nullable = true)\n",
      " |-- arrdate: integer (nullable = true)\n",
      " |-- i94mode: integer (nullable = true)\n",
      " |-- i94addr: string (nullable = true)\n",
      " |-- depdate: integer (nullable = true)\n",
      " |-- i94bir: integer (nullable = true)\n",
      " |-- i94visa: integer (nullable = true)\n",
      " |-- count: integer (nullable = true)\n",
      " |-- dtadfile: string (nullable = true)\n",
      " |-- visapost: string (nullable = true)\n",
      " |-- occup: string (nullable = true)\n",
      " |-- entdepa: string (nullable = true)\n",
      " |-- entdepd: string (nullable = true)\n",
      " |-- entdepu: string (nullable = true)\n",
      " |-- matflag: string (nullable = true)\n",
      " |-- biryear: integer (nullable = true)\n",
      " |-- dtaddto: string (nullable = true)\n",
      " |-- gender: string (nullable = true)\n",
      " |-- insnum: string (nullable = true)\n",
      " |-- airline: string (nullable = true)\n",
      " |-- admnum: double (nullable = true)\n",
      " |-- fltno: string (nullable = true)\n",
      " |-- visatype: string (nullable = true)\n",
      "\n"
     ]
    }
   ],
   "source": [
    "df_spark.printSchema()\n"
   ]
  },
  {
   "cell_type": "code",
   "execution_count": 37,
   "id": "multiple-spirituality",
   "metadata": {},
   "outputs": [
    {
     "name": "stdout",
     "output_type": "stream",
     "text": [
      "+-----+-----+------+------+------+-------+-------+-------+-------+-------+------+-------+-----+--------+--------+-----+-------+-------+-------+-------+-------+--------+------+------+-------+---------------+-----+--------+\n",
      "|cicid|i94yr|i94mon|i94cit|i94res|i94port|arrdate|i94mode|i94addr|depdate|i94bir|i94visa|count|dtadfile|visapost|occup|entdepa|entdepd|entdepu|matflag|biryear| dtaddto|gender|insnum|airline|         admnum|fltno|visatype|\n",
      "+-----+-----+------+------+------+-------+-------+-------+-------+-------+------+-------+-----+--------+--------+-----+-------+-------+-------+-------+-------+--------+------+------+-------+---------------+-----+--------+\n",
      "|    4| 2016|     6|   135|   135|    XXX|  20612|   null|   null|   null|    59|      2|    1|    null|    null| null|      Z|   null|      U|   null|   1957|10032016|  null|  null|   null|1.4938462027E10| null|      WT|\n",
      "|    5| 2016|     6|   135|   135|    XXX|  20612|   null|   null|   null|    50|      2|    1|    null|    null| null|      Z|   null|      U|   null|   1966|10032016|  null|  null|   null|1.7460063727E10| null|      WT|\n",
      "|    6| 2016|     6|   213|   213|    XXX|  20609|   null|   null|   null|    27|      3|    1|    null|    null| null|      T|   null|      U|   null|   1989|     D/S|  null|  null|   null|  1.679297785E9| null|      F1|\n",
      "|    7| 2016|     6|   213|   213|    XXX|  20611|   null|   null|   null|    23|      3|    1|    null|    null| null|      T|   null|      U|   null|   1993|     D/S|  null|  null|   null|  1.140963185E9| null|      F1|\n",
      "|   16| 2016|     6|   245|   245|    XXX|  20632|   null|   null|   null|    24|      3|    1|    null|    null| null|      T|   null|      U|   null|   1992|     D/S|  null|  null|   null|  1.934535285E9| null|      F1|\n",
      "|   19| 2016|     6|   254|   276|    XXX|  20612|   null|   null|   null|    21|      3|    1|    null|    null| null|      T|   null|      U|   null|   1995|     D/S|  null|  null|   null|  1.148757685E9| null|      F1|\n",
      "|   27| 2016|     6|   343|   343|    XXX|  20611|   null|   null|   null|    32|      3|    1|    null|    null| null|      T|   null|      U|   null|   1984|     D/S|  null|  null|   null|  1.152545285E9| null|      F1|\n",
      "|   33| 2016|     6|   582|   582|    XXX|  20612|   null|   null|   null|    18|      3|    1|    null|    null| null|      T|   null|      U|   null|   1998|     D/S|  null|  null|   null|  1.150899985E9| null|      F2|\n",
      "|   38| 2016|     6|   687|   687|    XXX|  20623|   null|   null|   null|    19|      1|    1|    null|    null| null|      U|   null|      U|   null|   1997|06172018|  null|  null|   null| 3.575377593E10| null|      E2|\n",
      "|   39| 2016|     6|   694|   694|    XXX|  20611|   null|   null|   null|    20|      3|    1|    null|    null| null|      U|   null|      U|   null|   1996|04162017|  null|  null|   null|  1.142100885E9| null|      M1|\n",
      "|   41| 2016|     6|   254|   276|    SFR|  20623|      1|     CA|   null|    22|      3|    1|20160103|     SEO| null|      G|   null|      U|   null|   1994|     D/S|     F|  null|     KE| 8.432352323E10|00023|      F1|\n",
      "|   42| 2016|     6|   254|   276|    SFR|  20623|      1|     CA|   null|    27|      3|    1|20160131|     SEO|  STU|      G|   null|      U|   null|   1989|     D/S|     M|  null|     KE| 8.694424303E10|00023|      F1|\n",
      "+-----+-----+------+------+------+-------+-------+-------+-------+-------+------+-------+-----+--------+--------+-----+-------+-------+-------+-------+-------+--------+------+------+-------+---------------+-----+--------+\n",
      "only showing top 12 rows\n",
      "\n"
     ]
    }
   ],
   "source": [
    "df_spark.show(12)"
   ]
  },
  {
   "cell_type": "code",
   "execution_count": null,
   "id": "ethical-alpha",
   "metadata": {},
   "outputs": [],
   "source": []
  }
 ],
 "metadata": {
  "kernelspec": {
   "display_name": "Python 3",
   "language": "python",
   "name": "python3"
  },
  "language_info": {
   "codemirror_mode": {
    "name": "ipython",
    "version": 3
   },
   "file_extension": ".py",
   "mimetype": "text/x-python",
   "name": "python",
   "nbconvert_exporter": "python",
   "pygments_lexer": "ipython3",
   "version": "3.9.1"
  }
 },
 "nbformat": 4,
 "nbformat_minor": 5
}
