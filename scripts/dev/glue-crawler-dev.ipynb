{
 "cells": [
  {
   "cell_type": "markdown",
   "id": "extraordinary-craps",
   "metadata": {},
   "source": [
    "# Glue Crawler Development"
   ]
  },
  {
   "cell_type": "markdown",
   "id": "rotary-bracket",
   "metadata": {},
   "source": [
    "- https://docs.aws.amazon.com/glue/latest/dg/aws-glue-api-crawler-crawling.html\n",
    "- https://stackoverflow.com/questions/52996591/wait-until-aws-glue-crawler-has-finished-running"
   ]
  },
  {
   "cell_type": "code",
   "execution_count": 3,
   "id": "certified-secretary",
   "metadata": {},
   "outputs": [],
   "source": [
    "import configparser\n",
    "import os\n",
    "import boto3"
   ]
  },
  {
   "cell_type": "code",
   "execution_count": 6,
   "id": "placed-orchestra",
   "metadata": {},
   "outputs": [],
   "source": [
    "# read configurations\n",
    "config = configparser.ConfigParser()\n",
    "config.read_file(open('aws.cfg'))\n",
    "\n",
    "REGION_NAME = config.get('AWS', 'REGION_NAME')\n",
    "GLUE_ENDPOINT_URL = config.get('AWS', 'GLUE_ENDPOINT_URL')"
   ]
  },
  {
   "cell_type": "code",
   "execution_count": 7,
   "id": "saving-senate",
   "metadata": {},
   "outputs": [],
   "source": [
    "# connenct glue\n",
    "\n",
    "glue = boto3.client(service_name='glue', \n",
    "                    region_name=REGION_NAME,\n",
    "                    endpoint_url=GLUE_ENDPOINT_URL)"
   ]
  },
  {
   "cell_type": "code",
   "execution_count": 8,
   "id": "under-lesson",
   "metadata": {},
   "outputs": [],
   "source": [
    "# start crawler\n",
    "#myCrawler = glue.start_crawler(Name='model_crawler')"
   ]
  },
  {
   "cell_type": "code",
   "execution_count": 10,
   "id": "innocent-wichita",
   "metadata": {},
   "outputs": [
    {
     "data": {
      "text/plain": [
       "{'RequestId': '9912d895-73fe-42a0-a959-0e5e09dc6892',\n",
       " 'HTTPStatusCode': 200,\n",
       " 'HTTPHeaders': {'date': 'Mon, 15 Mar 2021 14:14:58 GMT',\n",
       "  'content-type': 'application/x-amz-json-1.1',\n",
       "  'content-length': '805',\n",
       "  'connection': 'keep-alive',\n",
       "  'x-amzn-requestid': '9912d895-73fe-42a0-a959-0e5e09dc6892'},\n",
       " 'RetryAttempts': 0}"
      ]
     },
     "execution_count": 10,
     "metadata": {},
     "output_type": "execute_result"
    }
   ],
   "source": [
    "glue.get_crawlers()['ResponseMetadata']"
   ]
  }
 ],
 "metadata": {
  "kernelspec": {
   "display_name": "Python 3",
   "language": "python",
   "name": "python3"
  },
  "language_info": {
   "codemirror_mode": {
    "name": "ipython",
    "version": 3
   },
   "file_extension": ".py",
   "mimetype": "text/x-python",
   "name": "python",
   "nbconvert_exporter": "python",
   "pygments_lexer": "ipython3",
   "version": "3.9.1"
  }
 },
 "nbformat": 4,
 "nbformat_minor": 5
}
